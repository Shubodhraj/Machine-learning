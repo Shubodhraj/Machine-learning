{
 "cells": [
  {
   "cell_type": "code",
   "execution_count": 1,
   "id": "a2fcb109",
   "metadata": {},
   "outputs": [],
   "source": [
    "import numpy as np\n",
    "import pandas as pd"
   ]
  },
  {
   "cell_type": "code",
   "execution_count": 2,
   "id": "a43e31b8",
   "metadata": {},
   "outputs": [],
   "source": [
    "df = pd.read_csv('/home/subodh/ml/car.data')"
   ]
  },
  {
   "cell_type": "code",
   "execution_count": 3,
   "id": "09d74fc1",
   "metadata": {},
   "outputs": [
    {
     "data": {
      "text/html": [
       "<div>\n",
       "<style scoped>\n",
       "    .dataframe tbody tr th:only-of-type {\n",
       "        vertical-align: middle;\n",
       "    }\n",
       "\n",
       "    .dataframe tbody tr th {\n",
       "        vertical-align: top;\n",
       "    }\n",
       "\n",
       "    .dataframe thead th {\n",
       "        text-align: right;\n",
       "    }\n",
       "</style>\n",
       "<table border=\"1\" class=\"dataframe\">\n",
       "  <thead>\n",
       "    <tr style=\"text-align: right;\">\n",
       "      <th></th>\n",
       "      <th>vhigh</th>\n",
       "      <th>vhigh.1</th>\n",
       "      <th>2</th>\n",
       "      <th>2.1</th>\n",
       "      <th>small</th>\n",
       "      <th>low</th>\n",
       "      <th>unacc</th>\n",
       "    </tr>\n",
       "  </thead>\n",
       "  <tbody>\n",
       "    <tr>\n",
       "      <th>0</th>\n",
       "      <td>vhigh</td>\n",
       "      <td>vhigh</td>\n",
       "      <td>2</td>\n",
       "      <td>2</td>\n",
       "      <td>small</td>\n",
       "      <td>med</td>\n",
       "      <td>unacc</td>\n",
       "    </tr>\n",
       "    <tr>\n",
       "      <th>1</th>\n",
       "      <td>vhigh</td>\n",
       "      <td>vhigh</td>\n",
       "      <td>2</td>\n",
       "      <td>2</td>\n",
       "      <td>small</td>\n",
       "      <td>high</td>\n",
       "      <td>unacc</td>\n",
       "    </tr>\n",
       "    <tr>\n",
       "      <th>2</th>\n",
       "      <td>vhigh</td>\n",
       "      <td>vhigh</td>\n",
       "      <td>2</td>\n",
       "      <td>2</td>\n",
       "      <td>med</td>\n",
       "      <td>low</td>\n",
       "      <td>unacc</td>\n",
       "    </tr>\n",
       "    <tr>\n",
       "      <th>3</th>\n",
       "      <td>vhigh</td>\n",
       "      <td>vhigh</td>\n",
       "      <td>2</td>\n",
       "      <td>2</td>\n",
       "      <td>med</td>\n",
       "      <td>med</td>\n",
       "      <td>unacc</td>\n",
       "    </tr>\n",
       "    <tr>\n",
       "      <th>4</th>\n",
       "      <td>vhigh</td>\n",
       "      <td>vhigh</td>\n",
       "      <td>2</td>\n",
       "      <td>2</td>\n",
       "      <td>med</td>\n",
       "      <td>high</td>\n",
       "      <td>unacc</td>\n",
       "    </tr>\n",
       "    <tr>\n",
       "      <th>...</th>\n",
       "      <td>...</td>\n",
       "      <td>...</td>\n",
       "      <td>...</td>\n",
       "      <td>...</td>\n",
       "      <td>...</td>\n",
       "      <td>...</td>\n",
       "      <td>...</td>\n",
       "    </tr>\n",
       "    <tr>\n",
       "      <th>1722</th>\n",
       "      <td>low</td>\n",
       "      <td>low</td>\n",
       "      <td>5more</td>\n",
       "      <td>more</td>\n",
       "      <td>med</td>\n",
       "      <td>med</td>\n",
       "      <td>good</td>\n",
       "    </tr>\n",
       "    <tr>\n",
       "      <th>1723</th>\n",
       "      <td>low</td>\n",
       "      <td>low</td>\n",
       "      <td>5more</td>\n",
       "      <td>more</td>\n",
       "      <td>med</td>\n",
       "      <td>high</td>\n",
       "      <td>vgood</td>\n",
       "    </tr>\n",
       "    <tr>\n",
       "      <th>1724</th>\n",
       "      <td>low</td>\n",
       "      <td>low</td>\n",
       "      <td>5more</td>\n",
       "      <td>more</td>\n",
       "      <td>big</td>\n",
       "      <td>low</td>\n",
       "      <td>unacc</td>\n",
       "    </tr>\n",
       "    <tr>\n",
       "      <th>1725</th>\n",
       "      <td>low</td>\n",
       "      <td>low</td>\n",
       "      <td>5more</td>\n",
       "      <td>more</td>\n",
       "      <td>big</td>\n",
       "      <td>med</td>\n",
       "      <td>good</td>\n",
       "    </tr>\n",
       "    <tr>\n",
       "      <th>1726</th>\n",
       "      <td>low</td>\n",
       "      <td>low</td>\n",
       "      <td>5more</td>\n",
       "      <td>more</td>\n",
       "      <td>big</td>\n",
       "      <td>high</td>\n",
       "      <td>vgood</td>\n",
       "    </tr>\n",
       "  </tbody>\n",
       "</table>\n",
       "<p>1727 rows × 7 columns</p>\n",
       "</div>"
      ],
      "text/plain": [
       "      vhigh vhigh.1      2   2.1  small   low  unacc\n",
       "0     vhigh   vhigh      2     2  small   med  unacc\n",
       "1     vhigh   vhigh      2     2  small  high  unacc\n",
       "2     vhigh   vhigh      2     2    med   low  unacc\n",
       "3     vhigh   vhigh      2     2    med   med  unacc\n",
       "4     vhigh   vhigh      2     2    med  high  unacc\n",
       "...     ...     ...    ...   ...    ...   ...    ...\n",
       "1722    low     low  5more  more    med   med   good\n",
       "1723    low     low  5more  more    med  high  vgood\n",
       "1724    low     low  5more  more    big   low  unacc\n",
       "1725    low     low  5more  more    big   med   good\n",
       "1726    low     low  5more  more    big  high  vgood\n",
       "\n",
       "[1727 rows x 7 columns]"
      ]
     },
     "execution_count": 3,
     "metadata": {},
     "output_type": "execute_result"
    }
   ],
   "source": [
    "df"
   ]
  },
  {
   "cell_type": "code",
   "execution_count": 4,
   "id": "79c6e78c",
   "metadata": {},
   "outputs": [
    {
     "data": {
      "text/plain": [
       "(1727, 7)"
      ]
     },
     "execution_count": 4,
     "metadata": {},
     "output_type": "execute_result"
    }
   ],
   "source": [
    "df.shape"
   ]
  },
  {
   "cell_type": "code",
   "execution_count": 5,
   "id": "ecaa8a43",
   "metadata": {},
   "outputs": [
    {
     "data": {
      "text/plain": [
       "12089"
      ]
     },
     "execution_count": 5,
     "metadata": {},
     "output_type": "execute_result"
    }
   ],
   "source": [
    "df.size"
   ]
  },
  {
   "cell_type": "code",
   "execution_count": 6,
   "id": "3d39a13b",
   "metadata": {},
   "outputs": [],
   "source": [
    "col_names = ['buying', 'maint', 'doors', 'persons', 'lug_boot', 'safety', 'class']\n"
   ]
  },
  {
   "cell_type": "code",
   "execution_count": 7,
   "id": "26a4ab7f",
   "metadata": {},
   "outputs": [],
   "source": [
    "df.columns = col_names"
   ]
  },
  {
   "cell_type": "code",
   "execution_count": 8,
   "id": "68c531d6",
   "metadata": {},
   "outputs": [
    {
     "name": "stdout",
     "output_type": "stream",
     "text": [
      "<class 'pandas.core.frame.DataFrame'>\n",
      "RangeIndex: 1727 entries, 0 to 1726\n",
      "Data columns (total 7 columns):\n",
      " #   Column    Non-Null Count  Dtype \n",
      "---  ------    --------------  ----- \n",
      " 0   buying    1727 non-null   object\n",
      " 1   maint     1727 non-null   object\n",
      " 2   doors     1727 non-null   object\n",
      " 3   persons   1727 non-null   object\n",
      " 4   lug_boot  1727 non-null   object\n",
      " 5   safety    1727 non-null   object\n",
      " 6   class     1727 non-null   object\n",
      "dtypes: object(7)\n",
      "memory usage: 94.6+ KB\n"
     ]
    }
   ],
   "source": [
    "df.info()"
   ]
  },
  {
   "cell_type": "markdown",
   "id": "e00afca9",
   "metadata": {},
   "source": [
    "From above it is seen that all columns are of Object type. That means they are not clearly int or float but mixture of string, int and float. So we have to convert them into integers before fetching the data into our model because computer can only process numerical values but not strings.</br>\n",
    "</br>\n",
    "__Target Type__\n",
    "#class is our target. So lets find out whether it contains binary target class/labels\n",
    "#or it contains multiple taget class/labels.\n",
    "For this we can check how many unique value are present in that column. "
   ]
  },
  {
   "cell_type": "code",
   "execution_count": 9,
   "id": "97fdd642",
   "metadata": {},
   "outputs": [
    {
     "name": "stdout",
     "output_type": "stream",
     "text": [
      "['unacc', 'acc', 'vgood', 'good']\n"
     ]
    }
   ],
   "source": [
    "uniq_data = []\n",
    "for i in df['class']:\n",
    "    if i not in uniq_data:\n",
    "        uniq_data.append(i)\n",
    "print(uniq_data)"
   ]
  },
  {
   "cell_type": "code",
   "execution_count": 10,
   "id": "ce791f38",
   "metadata": {},
   "outputs": [
    {
     "data": {
      "text/plain": [
       "array(['unacc', 'acc', 'vgood', 'good'], dtype=object)"
      ]
     },
     "execution_count": 10,
     "metadata": {},
     "output_type": "execute_result"
    }
   ],
   "source": [
    "df['class'].unique()"
   ]
  },
  {
   "cell_type": "markdown",
   "id": "a472f65a",
   "metadata": {},
   "source": [
    "So it is found that our target contains different classes. So we have to built a model that can classify the supplied attributes into these four categories. </br>\n",
    "For this, we can have different approaches.</br>\n",
    "\n",
    "1st) We can change these labels into numbers by simply replacing them by integers. For example replace 'unacc' by 0 and so on.</br>\n",
    "for this we can manually use .replace({}) function or we can use the LableEncoder function from scikit learn library. </br>\n",
    "\n",
    "2nd) We can use the one hot encoding teching to convert object type data into integers. </br>\n",
    "\n",
    "But we will have some problem in first approach if we are building neural network. </br>\n",
    "\n",
    "In neural network we use some activation function to output the calculation from each layer. These activation function are usually Sigmoid and Softmax. We use Sigmoid for binary classification and softmax for multiclass classification. Sigmoid outputs different values between 0 and 1. These are termed as the probabilities. For example we are performing binary classification in neural network. At that case, we use only one neuron at the output layer. The activation funtion will be 'Sigmoid'. It will ouput values between 0 and 1. Those examples whose output values will be near to 0s can be considered as examples belonging to class 0 and those example whose output will be close to 1 can be considered as the examples belonging to class 1. But what about those values which are at the middle of both ends? These values also can be divided into one of the classes but with high error. \n",
    "</br>\n",
    "\n",
    "Similarly, if we are performing multiclass classification, the true problem will not be presented to the model, as out target will contain single column having different integers representing the classes. </br>\n",
    "</br>\n",
    "To cast our real problem in the model, we will use one hot ecoding:</br>\n",
    "['apple', 'orange', 'mango']</br>\n",
    "[[1, 0, 0]</br>\n",
    "  0, 1, 0]</br>\n",
    " [0, 0, 1]]</br>\n"
   ]
  },
  {
   "cell_type": "code",
   "execution_count": 11,
   "id": "8d3c40b4",
   "metadata": {},
   "outputs": [
    {
     "data": {
      "text/plain": [
       "Index(['buying', 'maint', 'doors', 'persons', 'lug_boot', 'safety', 'class'], dtype='object')"
      ]
     },
     "execution_count": 11,
     "metadata": {},
     "output_type": "execute_result"
    }
   ],
   "source": [
    "df.columns"
   ]
  },
  {
   "cell_type": "code",
   "execution_count": 12,
   "id": "5b0835db",
   "metadata": {},
   "outputs": [],
   "source": [
    "X = df.iloc[:,0:6]\n",
    "y = df.iloc[:,6:]"
   ]
  },
  {
   "cell_type": "code",
   "execution_count": 13,
   "id": "d471e17f",
   "metadata": {},
   "outputs": [
    {
     "data": {
      "text/html": [
       "<div>\n",
       "<style scoped>\n",
       "    .dataframe tbody tr th:only-of-type {\n",
       "        vertical-align: middle;\n",
       "    }\n",
       "\n",
       "    .dataframe tbody tr th {\n",
       "        vertical-align: top;\n",
       "    }\n",
       "\n",
       "    .dataframe thead th {\n",
       "        text-align: right;\n",
       "    }\n",
       "</style>\n",
       "<table border=\"1\" class=\"dataframe\">\n",
       "  <thead>\n",
       "    <tr style=\"text-align: right;\">\n",
       "      <th></th>\n",
       "      <th>buying</th>\n",
       "      <th>maint</th>\n",
       "      <th>doors</th>\n",
       "      <th>persons</th>\n",
       "      <th>lug_boot</th>\n",
       "      <th>safety</th>\n",
       "    </tr>\n",
       "  </thead>\n",
       "  <tbody>\n",
       "    <tr>\n",
       "      <th>0</th>\n",
       "      <td>vhigh</td>\n",
       "      <td>vhigh</td>\n",
       "      <td>2</td>\n",
       "      <td>2</td>\n",
       "      <td>small</td>\n",
       "      <td>med</td>\n",
       "    </tr>\n",
       "    <tr>\n",
       "      <th>1</th>\n",
       "      <td>vhigh</td>\n",
       "      <td>vhigh</td>\n",
       "      <td>2</td>\n",
       "      <td>2</td>\n",
       "      <td>small</td>\n",
       "      <td>high</td>\n",
       "    </tr>\n",
       "    <tr>\n",
       "      <th>2</th>\n",
       "      <td>vhigh</td>\n",
       "      <td>vhigh</td>\n",
       "      <td>2</td>\n",
       "      <td>2</td>\n",
       "      <td>med</td>\n",
       "      <td>low</td>\n",
       "    </tr>\n",
       "    <tr>\n",
       "      <th>3</th>\n",
       "      <td>vhigh</td>\n",
       "      <td>vhigh</td>\n",
       "      <td>2</td>\n",
       "      <td>2</td>\n",
       "      <td>med</td>\n",
       "      <td>med</td>\n",
       "    </tr>\n",
       "    <tr>\n",
       "      <th>4</th>\n",
       "      <td>vhigh</td>\n",
       "      <td>vhigh</td>\n",
       "      <td>2</td>\n",
       "      <td>2</td>\n",
       "      <td>med</td>\n",
       "      <td>high</td>\n",
       "    </tr>\n",
       "    <tr>\n",
       "      <th>...</th>\n",
       "      <td>...</td>\n",
       "      <td>...</td>\n",
       "      <td>...</td>\n",
       "      <td>...</td>\n",
       "      <td>...</td>\n",
       "      <td>...</td>\n",
       "    </tr>\n",
       "    <tr>\n",
       "      <th>1722</th>\n",
       "      <td>low</td>\n",
       "      <td>low</td>\n",
       "      <td>5more</td>\n",
       "      <td>more</td>\n",
       "      <td>med</td>\n",
       "      <td>med</td>\n",
       "    </tr>\n",
       "    <tr>\n",
       "      <th>1723</th>\n",
       "      <td>low</td>\n",
       "      <td>low</td>\n",
       "      <td>5more</td>\n",
       "      <td>more</td>\n",
       "      <td>med</td>\n",
       "      <td>high</td>\n",
       "    </tr>\n",
       "    <tr>\n",
       "      <th>1724</th>\n",
       "      <td>low</td>\n",
       "      <td>low</td>\n",
       "      <td>5more</td>\n",
       "      <td>more</td>\n",
       "      <td>big</td>\n",
       "      <td>low</td>\n",
       "    </tr>\n",
       "    <tr>\n",
       "      <th>1725</th>\n",
       "      <td>low</td>\n",
       "      <td>low</td>\n",
       "      <td>5more</td>\n",
       "      <td>more</td>\n",
       "      <td>big</td>\n",
       "      <td>med</td>\n",
       "    </tr>\n",
       "    <tr>\n",
       "      <th>1726</th>\n",
       "      <td>low</td>\n",
       "      <td>low</td>\n",
       "      <td>5more</td>\n",
       "      <td>more</td>\n",
       "      <td>big</td>\n",
       "      <td>high</td>\n",
       "    </tr>\n",
       "  </tbody>\n",
       "</table>\n",
       "<p>1727 rows × 6 columns</p>\n",
       "</div>"
      ],
      "text/plain": [
       "     buying  maint  doors persons lug_boot safety\n",
       "0     vhigh  vhigh      2       2    small    med\n",
       "1     vhigh  vhigh      2       2    small   high\n",
       "2     vhigh  vhigh      2       2      med    low\n",
       "3     vhigh  vhigh      2       2      med    med\n",
       "4     vhigh  vhigh      2       2      med   high\n",
       "...     ...    ...    ...     ...      ...    ...\n",
       "1722    low    low  5more    more      med    med\n",
       "1723    low    low  5more    more      med   high\n",
       "1724    low    low  5more    more      big    low\n",
       "1725    low    low  5more    more      big    med\n",
       "1726    low    low  5more    more      big   high\n",
       "\n",
       "[1727 rows x 6 columns]"
      ]
     },
     "execution_count": 13,
     "metadata": {},
     "output_type": "execute_result"
    }
   ],
   "source": [
    "X"
   ]
  },
  {
   "cell_type": "code",
   "execution_count": 14,
   "id": "8bbbce96",
   "metadata": {},
   "outputs": [
    {
     "data": {
      "text/html": [
       "<div>\n",
       "<style scoped>\n",
       "    .dataframe tbody tr th:only-of-type {\n",
       "        vertical-align: middle;\n",
       "    }\n",
       "\n",
       "    .dataframe tbody tr th {\n",
       "        vertical-align: top;\n",
       "    }\n",
       "\n",
       "    .dataframe thead th {\n",
       "        text-align: right;\n",
       "    }\n",
       "</style>\n",
       "<table border=\"1\" class=\"dataframe\">\n",
       "  <thead>\n",
       "    <tr style=\"text-align: right;\">\n",
       "      <th></th>\n",
       "      <th>class</th>\n",
       "    </tr>\n",
       "  </thead>\n",
       "  <tbody>\n",
       "    <tr>\n",
       "      <th>0</th>\n",
       "      <td>unacc</td>\n",
       "    </tr>\n",
       "    <tr>\n",
       "      <th>1</th>\n",
       "      <td>unacc</td>\n",
       "    </tr>\n",
       "    <tr>\n",
       "      <th>2</th>\n",
       "      <td>unacc</td>\n",
       "    </tr>\n",
       "    <tr>\n",
       "      <th>3</th>\n",
       "      <td>unacc</td>\n",
       "    </tr>\n",
       "    <tr>\n",
       "      <th>4</th>\n",
       "      <td>unacc</td>\n",
       "    </tr>\n",
       "    <tr>\n",
       "      <th>...</th>\n",
       "      <td>...</td>\n",
       "    </tr>\n",
       "    <tr>\n",
       "      <th>1722</th>\n",
       "      <td>good</td>\n",
       "    </tr>\n",
       "    <tr>\n",
       "      <th>1723</th>\n",
       "      <td>vgood</td>\n",
       "    </tr>\n",
       "    <tr>\n",
       "      <th>1724</th>\n",
       "      <td>unacc</td>\n",
       "    </tr>\n",
       "    <tr>\n",
       "      <th>1725</th>\n",
       "      <td>good</td>\n",
       "    </tr>\n",
       "    <tr>\n",
       "      <th>1726</th>\n",
       "      <td>vgood</td>\n",
       "    </tr>\n",
       "  </tbody>\n",
       "</table>\n",
       "<p>1727 rows × 1 columns</p>\n",
       "</div>"
      ],
      "text/plain": [
       "      class\n",
       "0     unacc\n",
       "1     unacc\n",
       "2     unacc\n",
       "3     unacc\n",
       "4     unacc\n",
       "...     ...\n",
       "1722   good\n",
       "1723  vgood\n",
       "1724  unacc\n",
       "1725   good\n",
       "1726  vgood\n",
       "\n",
       "[1727 rows x 1 columns]"
      ]
     },
     "execution_count": 14,
     "metadata": {},
     "output_type": "execute_result"
    }
   ],
   "source": [
    "y"
   ]
  },
  {
   "cell_type": "code",
   "execution_count": 15,
   "id": "3ac15b13",
   "metadata": {},
   "outputs": [],
   "source": [
    "X = pd.get_dummies(X)\n",
    "y = pd.get_dummies(y)"
   ]
  },
  {
   "cell_type": "code",
   "execution_count": 16,
   "id": "a4161fbd",
   "metadata": {},
   "outputs": [
    {
     "data": {
      "text/html": [
       "<div>\n",
       "<style scoped>\n",
       "    .dataframe tbody tr th:only-of-type {\n",
       "        vertical-align: middle;\n",
       "    }\n",
       "\n",
       "    .dataframe tbody tr th {\n",
       "        vertical-align: top;\n",
       "    }\n",
       "\n",
       "    .dataframe thead th {\n",
       "        text-align: right;\n",
       "    }\n",
       "</style>\n",
       "<table border=\"1\" class=\"dataframe\">\n",
       "  <thead>\n",
       "    <tr style=\"text-align: right;\">\n",
       "      <th></th>\n",
       "      <th>buying_high</th>\n",
       "      <th>buying_low</th>\n",
       "      <th>buying_med</th>\n",
       "      <th>buying_vhigh</th>\n",
       "      <th>maint_high</th>\n",
       "      <th>maint_low</th>\n",
       "      <th>maint_med</th>\n",
       "      <th>maint_vhigh</th>\n",
       "      <th>doors_2</th>\n",
       "      <th>doors_3</th>\n",
       "      <th>...</th>\n",
       "      <th>doors_5more</th>\n",
       "      <th>persons_2</th>\n",
       "      <th>persons_4</th>\n",
       "      <th>persons_more</th>\n",
       "      <th>lug_boot_big</th>\n",
       "      <th>lug_boot_med</th>\n",
       "      <th>lug_boot_small</th>\n",
       "      <th>safety_high</th>\n",
       "      <th>safety_low</th>\n",
       "      <th>safety_med</th>\n",
       "    </tr>\n",
       "  </thead>\n",
       "  <tbody>\n",
       "    <tr>\n",
       "      <th>0</th>\n",
       "      <td>0</td>\n",
       "      <td>0</td>\n",
       "      <td>0</td>\n",
       "      <td>1</td>\n",
       "      <td>0</td>\n",
       "      <td>0</td>\n",
       "      <td>0</td>\n",
       "      <td>1</td>\n",
       "      <td>1</td>\n",
       "      <td>0</td>\n",
       "      <td>...</td>\n",
       "      <td>0</td>\n",
       "      <td>1</td>\n",
       "      <td>0</td>\n",
       "      <td>0</td>\n",
       "      <td>0</td>\n",
       "      <td>0</td>\n",
       "      <td>1</td>\n",
       "      <td>0</td>\n",
       "      <td>0</td>\n",
       "      <td>1</td>\n",
       "    </tr>\n",
       "    <tr>\n",
       "      <th>1</th>\n",
       "      <td>0</td>\n",
       "      <td>0</td>\n",
       "      <td>0</td>\n",
       "      <td>1</td>\n",
       "      <td>0</td>\n",
       "      <td>0</td>\n",
       "      <td>0</td>\n",
       "      <td>1</td>\n",
       "      <td>1</td>\n",
       "      <td>0</td>\n",
       "      <td>...</td>\n",
       "      <td>0</td>\n",
       "      <td>1</td>\n",
       "      <td>0</td>\n",
       "      <td>0</td>\n",
       "      <td>0</td>\n",
       "      <td>0</td>\n",
       "      <td>1</td>\n",
       "      <td>1</td>\n",
       "      <td>0</td>\n",
       "      <td>0</td>\n",
       "    </tr>\n",
       "    <tr>\n",
       "      <th>2</th>\n",
       "      <td>0</td>\n",
       "      <td>0</td>\n",
       "      <td>0</td>\n",
       "      <td>1</td>\n",
       "      <td>0</td>\n",
       "      <td>0</td>\n",
       "      <td>0</td>\n",
       "      <td>1</td>\n",
       "      <td>1</td>\n",
       "      <td>0</td>\n",
       "      <td>...</td>\n",
       "      <td>0</td>\n",
       "      <td>1</td>\n",
       "      <td>0</td>\n",
       "      <td>0</td>\n",
       "      <td>0</td>\n",
       "      <td>1</td>\n",
       "      <td>0</td>\n",
       "      <td>0</td>\n",
       "      <td>1</td>\n",
       "      <td>0</td>\n",
       "    </tr>\n",
       "    <tr>\n",
       "      <th>3</th>\n",
       "      <td>0</td>\n",
       "      <td>0</td>\n",
       "      <td>0</td>\n",
       "      <td>1</td>\n",
       "      <td>0</td>\n",
       "      <td>0</td>\n",
       "      <td>0</td>\n",
       "      <td>1</td>\n",
       "      <td>1</td>\n",
       "      <td>0</td>\n",
       "      <td>...</td>\n",
       "      <td>0</td>\n",
       "      <td>1</td>\n",
       "      <td>0</td>\n",
       "      <td>0</td>\n",
       "      <td>0</td>\n",
       "      <td>1</td>\n",
       "      <td>0</td>\n",
       "      <td>0</td>\n",
       "      <td>0</td>\n",
       "      <td>1</td>\n",
       "    </tr>\n",
       "    <tr>\n",
       "      <th>4</th>\n",
       "      <td>0</td>\n",
       "      <td>0</td>\n",
       "      <td>0</td>\n",
       "      <td>1</td>\n",
       "      <td>0</td>\n",
       "      <td>0</td>\n",
       "      <td>0</td>\n",
       "      <td>1</td>\n",
       "      <td>1</td>\n",
       "      <td>0</td>\n",
       "      <td>...</td>\n",
       "      <td>0</td>\n",
       "      <td>1</td>\n",
       "      <td>0</td>\n",
       "      <td>0</td>\n",
       "      <td>0</td>\n",
       "      <td>1</td>\n",
       "      <td>0</td>\n",
       "      <td>1</td>\n",
       "      <td>0</td>\n",
       "      <td>0</td>\n",
       "    </tr>\n",
       "    <tr>\n",
       "      <th>...</th>\n",
       "      <td>...</td>\n",
       "      <td>...</td>\n",
       "      <td>...</td>\n",
       "      <td>...</td>\n",
       "      <td>...</td>\n",
       "      <td>...</td>\n",
       "      <td>...</td>\n",
       "      <td>...</td>\n",
       "      <td>...</td>\n",
       "      <td>...</td>\n",
       "      <td>...</td>\n",
       "      <td>...</td>\n",
       "      <td>...</td>\n",
       "      <td>...</td>\n",
       "      <td>...</td>\n",
       "      <td>...</td>\n",
       "      <td>...</td>\n",
       "      <td>...</td>\n",
       "      <td>...</td>\n",
       "      <td>...</td>\n",
       "      <td>...</td>\n",
       "    </tr>\n",
       "    <tr>\n",
       "      <th>1722</th>\n",
       "      <td>0</td>\n",
       "      <td>1</td>\n",
       "      <td>0</td>\n",
       "      <td>0</td>\n",
       "      <td>0</td>\n",
       "      <td>1</td>\n",
       "      <td>0</td>\n",
       "      <td>0</td>\n",
       "      <td>0</td>\n",
       "      <td>0</td>\n",
       "      <td>...</td>\n",
       "      <td>1</td>\n",
       "      <td>0</td>\n",
       "      <td>0</td>\n",
       "      <td>1</td>\n",
       "      <td>0</td>\n",
       "      <td>1</td>\n",
       "      <td>0</td>\n",
       "      <td>0</td>\n",
       "      <td>0</td>\n",
       "      <td>1</td>\n",
       "    </tr>\n",
       "    <tr>\n",
       "      <th>1723</th>\n",
       "      <td>0</td>\n",
       "      <td>1</td>\n",
       "      <td>0</td>\n",
       "      <td>0</td>\n",
       "      <td>0</td>\n",
       "      <td>1</td>\n",
       "      <td>0</td>\n",
       "      <td>0</td>\n",
       "      <td>0</td>\n",
       "      <td>0</td>\n",
       "      <td>...</td>\n",
       "      <td>1</td>\n",
       "      <td>0</td>\n",
       "      <td>0</td>\n",
       "      <td>1</td>\n",
       "      <td>0</td>\n",
       "      <td>1</td>\n",
       "      <td>0</td>\n",
       "      <td>1</td>\n",
       "      <td>0</td>\n",
       "      <td>0</td>\n",
       "    </tr>\n",
       "    <tr>\n",
       "      <th>1724</th>\n",
       "      <td>0</td>\n",
       "      <td>1</td>\n",
       "      <td>0</td>\n",
       "      <td>0</td>\n",
       "      <td>0</td>\n",
       "      <td>1</td>\n",
       "      <td>0</td>\n",
       "      <td>0</td>\n",
       "      <td>0</td>\n",
       "      <td>0</td>\n",
       "      <td>...</td>\n",
       "      <td>1</td>\n",
       "      <td>0</td>\n",
       "      <td>0</td>\n",
       "      <td>1</td>\n",
       "      <td>1</td>\n",
       "      <td>0</td>\n",
       "      <td>0</td>\n",
       "      <td>0</td>\n",
       "      <td>1</td>\n",
       "      <td>0</td>\n",
       "    </tr>\n",
       "    <tr>\n",
       "      <th>1725</th>\n",
       "      <td>0</td>\n",
       "      <td>1</td>\n",
       "      <td>0</td>\n",
       "      <td>0</td>\n",
       "      <td>0</td>\n",
       "      <td>1</td>\n",
       "      <td>0</td>\n",
       "      <td>0</td>\n",
       "      <td>0</td>\n",
       "      <td>0</td>\n",
       "      <td>...</td>\n",
       "      <td>1</td>\n",
       "      <td>0</td>\n",
       "      <td>0</td>\n",
       "      <td>1</td>\n",
       "      <td>1</td>\n",
       "      <td>0</td>\n",
       "      <td>0</td>\n",
       "      <td>0</td>\n",
       "      <td>0</td>\n",
       "      <td>1</td>\n",
       "    </tr>\n",
       "    <tr>\n",
       "      <th>1726</th>\n",
       "      <td>0</td>\n",
       "      <td>1</td>\n",
       "      <td>0</td>\n",
       "      <td>0</td>\n",
       "      <td>0</td>\n",
       "      <td>1</td>\n",
       "      <td>0</td>\n",
       "      <td>0</td>\n",
       "      <td>0</td>\n",
       "      <td>0</td>\n",
       "      <td>...</td>\n",
       "      <td>1</td>\n",
       "      <td>0</td>\n",
       "      <td>0</td>\n",
       "      <td>1</td>\n",
       "      <td>1</td>\n",
       "      <td>0</td>\n",
       "      <td>0</td>\n",
       "      <td>1</td>\n",
       "      <td>0</td>\n",
       "      <td>0</td>\n",
       "    </tr>\n",
       "  </tbody>\n",
       "</table>\n",
       "<p>1727 rows × 21 columns</p>\n",
       "</div>"
      ],
      "text/plain": [
       "      buying_high  buying_low  buying_med  buying_vhigh  maint_high  \\\n",
       "0               0           0           0             1           0   \n",
       "1               0           0           0             1           0   \n",
       "2               0           0           0             1           0   \n",
       "3               0           0           0             1           0   \n",
       "4               0           0           0             1           0   \n",
       "...           ...         ...         ...           ...         ...   \n",
       "1722            0           1           0             0           0   \n",
       "1723            0           1           0             0           0   \n",
       "1724            0           1           0             0           0   \n",
       "1725            0           1           0             0           0   \n",
       "1726            0           1           0             0           0   \n",
       "\n",
       "      maint_low  maint_med  maint_vhigh  doors_2  doors_3  ...  doors_5more  \\\n",
       "0             0          0            1        1        0  ...            0   \n",
       "1             0          0            1        1        0  ...            0   \n",
       "2             0          0            1        1        0  ...            0   \n",
       "3             0          0            1        1        0  ...            0   \n",
       "4             0          0            1        1        0  ...            0   \n",
       "...         ...        ...          ...      ...      ...  ...          ...   \n",
       "1722          1          0            0        0        0  ...            1   \n",
       "1723          1          0            0        0        0  ...            1   \n",
       "1724          1          0            0        0        0  ...            1   \n",
       "1725          1          0            0        0        0  ...            1   \n",
       "1726          1          0            0        0        0  ...            1   \n",
       "\n",
       "      persons_2  persons_4  persons_more  lug_boot_big  lug_boot_med  \\\n",
       "0             1          0             0             0             0   \n",
       "1             1          0             0             0             0   \n",
       "2             1          0             0             0             1   \n",
       "3             1          0             0             0             1   \n",
       "4             1          0             0             0             1   \n",
       "...         ...        ...           ...           ...           ...   \n",
       "1722          0          0             1             0             1   \n",
       "1723          0          0             1             0             1   \n",
       "1724          0          0             1             1             0   \n",
       "1725          0          0             1             1             0   \n",
       "1726          0          0             1             1             0   \n",
       "\n",
       "      lug_boot_small  safety_high  safety_low  safety_med  \n",
       "0                  1            0           0           1  \n",
       "1                  1            1           0           0  \n",
       "2                  0            0           1           0  \n",
       "3                  0            0           0           1  \n",
       "4                  0            1           0           0  \n",
       "...              ...          ...         ...         ...  \n",
       "1722               0            0           0           1  \n",
       "1723               0            1           0           0  \n",
       "1724               0            0           1           0  \n",
       "1725               0            0           0           1  \n",
       "1726               0            1           0           0  \n",
       "\n",
       "[1727 rows x 21 columns]"
      ]
     },
     "execution_count": 16,
     "metadata": {},
     "output_type": "execute_result"
    }
   ],
   "source": [
    "X"
   ]
  },
  {
   "cell_type": "code",
   "execution_count": 17,
   "id": "267b9590",
   "metadata": {},
   "outputs": [
    {
     "data": {
      "text/html": [
       "<div>\n",
       "<style scoped>\n",
       "    .dataframe tbody tr th:only-of-type {\n",
       "        vertical-align: middle;\n",
       "    }\n",
       "\n",
       "    .dataframe tbody tr th {\n",
       "        vertical-align: top;\n",
       "    }\n",
       "\n",
       "    .dataframe thead th {\n",
       "        text-align: right;\n",
       "    }\n",
       "</style>\n",
       "<table border=\"1\" class=\"dataframe\">\n",
       "  <thead>\n",
       "    <tr style=\"text-align: right;\">\n",
       "      <th></th>\n",
       "      <th>class_acc</th>\n",
       "      <th>class_good</th>\n",
       "      <th>class_unacc</th>\n",
       "      <th>class_vgood</th>\n",
       "    </tr>\n",
       "  </thead>\n",
       "  <tbody>\n",
       "    <tr>\n",
       "      <th>0</th>\n",
       "      <td>0</td>\n",
       "      <td>0</td>\n",
       "      <td>1</td>\n",
       "      <td>0</td>\n",
       "    </tr>\n",
       "    <tr>\n",
       "      <th>1</th>\n",
       "      <td>0</td>\n",
       "      <td>0</td>\n",
       "      <td>1</td>\n",
       "      <td>0</td>\n",
       "    </tr>\n",
       "    <tr>\n",
       "      <th>2</th>\n",
       "      <td>0</td>\n",
       "      <td>0</td>\n",
       "      <td>1</td>\n",
       "      <td>0</td>\n",
       "    </tr>\n",
       "    <tr>\n",
       "      <th>3</th>\n",
       "      <td>0</td>\n",
       "      <td>0</td>\n",
       "      <td>1</td>\n",
       "      <td>0</td>\n",
       "    </tr>\n",
       "    <tr>\n",
       "      <th>4</th>\n",
       "      <td>0</td>\n",
       "      <td>0</td>\n",
       "      <td>1</td>\n",
       "      <td>0</td>\n",
       "    </tr>\n",
       "    <tr>\n",
       "      <th>...</th>\n",
       "      <td>...</td>\n",
       "      <td>...</td>\n",
       "      <td>...</td>\n",
       "      <td>...</td>\n",
       "    </tr>\n",
       "    <tr>\n",
       "      <th>1722</th>\n",
       "      <td>0</td>\n",
       "      <td>1</td>\n",
       "      <td>0</td>\n",
       "      <td>0</td>\n",
       "    </tr>\n",
       "    <tr>\n",
       "      <th>1723</th>\n",
       "      <td>0</td>\n",
       "      <td>0</td>\n",
       "      <td>0</td>\n",
       "      <td>1</td>\n",
       "    </tr>\n",
       "    <tr>\n",
       "      <th>1724</th>\n",
       "      <td>0</td>\n",
       "      <td>0</td>\n",
       "      <td>1</td>\n",
       "      <td>0</td>\n",
       "    </tr>\n",
       "    <tr>\n",
       "      <th>1725</th>\n",
       "      <td>0</td>\n",
       "      <td>1</td>\n",
       "      <td>0</td>\n",
       "      <td>0</td>\n",
       "    </tr>\n",
       "    <tr>\n",
       "      <th>1726</th>\n",
       "      <td>0</td>\n",
       "      <td>0</td>\n",
       "      <td>0</td>\n",
       "      <td>1</td>\n",
       "    </tr>\n",
       "  </tbody>\n",
       "</table>\n",
       "<p>1727 rows × 4 columns</p>\n",
       "</div>"
      ],
      "text/plain": [
       "      class_acc  class_good  class_unacc  class_vgood\n",
       "0             0           0            1            0\n",
       "1             0           0            1            0\n",
       "2             0           0            1            0\n",
       "3             0           0            1            0\n",
       "4             0           0            1            0\n",
       "...         ...         ...          ...          ...\n",
       "1722          0           1            0            0\n",
       "1723          0           0            0            1\n",
       "1724          0           0            1            0\n",
       "1725          0           1            0            0\n",
       "1726          0           0            0            1\n",
       "\n",
       "[1727 rows x 4 columns]"
      ]
     },
     "execution_count": 17,
     "metadata": {},
     "output_type": "execute_result"
    }
   ],
   "source": [
    "y"
   ]
  },
  {
   "cell_type": "code",
   "execution_count": 18,
   "id": "9e1c912e",
   "metadata": {},
   "outputs": [],
   "source": [
    "from sklearn.model_selection import train_test_split\n",
    "X_train, X_test, y_train, y_test = train_test_split(X, y, test_size = 0.33, random_state = 42)"
   ]
  },
  {
   "cell_type": "code",
   "execution_count": 19,
   "id": "f6047beb",
   "metadata": {},
   "outputs": [
    {
     "data": {
      "text/plain": [
       "((1157, 21), (570, 21))"
      ]
     },
     "execution_count": 19,
     "metadata": {},
     "output_type": "execute_result"
    }
   ],
   "source": [
    "X_train.shape, X_test.shape"
   ]
  },
  {
   "cell_type": "code",
   "execution_count": 20,
   "id": "9a260ab7",
   "metadata": {},
   "outputs": [
    {
     "data": {
      "text/plain": [
       "(1157, 4)"
      ]
     },
     "execution_count": 20,
     "metadata": {},
     "output_type": "execute_result"
    }
   ],
   "source": [
    "#X_train.shape[1]\n",
    "y_train.shape"
   ]
  },
  {
   "cell_type": "markdown",
   "id": "da4304e6",
   "metadata": {},
   "source": [
    "Now lets build a classification model using neural network architecture"
   ]
  },
  {
   "cell_type": "code",
   "execution_count": 21,
   "id": "709a4fc7",
   "metadata": {},
   "outputs": [
    {
     "name": "stderr",
     "output_type": "stream",
     "text": [
      "2022-10-02 20:33:21.613787: W tensorflow/stream_executor/platform/default/dso_loader.cc:64] Could not load dynamic library 'libcudart.so.11.0'; dlerror: libcudart.so.11.0: cannot open shared object file: No such file or directory\n",
      "2022-10-02 20:33:21.613867: I tensorflow/stream_executor/cuda/cudart_stub.cc:29] Ignore above cudart dlerror if you do not have a GPU set up on your machine.\n"
     ]
    }
   ],
   "source": [
    "from keras.models import Sequential\n",
    "from keras.layers import Dense, Dropout"
   ]
  },
  {
   "cell_type": "code",
   "execution_count": 22,
   "id": "776b497c",
   "metadata": {},
   "outputs": [
    {
     "name": "stderr",
     "output_type": "stream",
     "text": [
      "2022-10-02 20:33:27.261139: W tensorflow/stream_executor/platform/default/dso_loader.cc:64] Could not load dynamic library 'libcuda.so.1'; dlerror: libcuda.so.1: cannot open shared object file: No such file or directory\n",
      "2022-10-02 20:33:27.261282: W tensorflow/stream_executor/cuda/cuda_driver.cc:269] failed call to cuInit: UNKNOWN ERROR (303)\n",
      "2022-10-02 20:33:27.261378: I tensorflow/stream_executor/cuda/cuda_diagnostics.cc:156] kernel driver does not appear to be running on this host (subodh-Inspiron-5570): /proc/driver/nvidia/version does not exist\n",
      "2022-10-02 20:33:27.263764: I tensorflow/core/platform/cpu_feature_guard.cc:193] This TensorFlow binary is optimized with oneAPI Deep Neural Network Library (oneDNN) to use the following CPU instructions in performance-critical operations:  AVX2 FMA\n",
      "To enable them in other operations, rebuild TensorFlow with the appropriate compiler flags.\n"
     ]
    }
   ],
   "source": [
    "model = Sequential()\n",
    "model.add(Dense(44, input_shape = (X_train.shape[1],), activation='relu'))\n",
    "model.add(Dense(y_train.shape[1], activation='softmax'))\n",
    "model.compile(optimizer='rmsprop',loss='categorical_crossentropy',\n",
    "             metrics=['accuracy'])"
   ]
  },
  {
   "cell_type": "code",
   "execution_count": 23,
   "id": "10aaf91d",
   "metadata": {},
   "outputs": [
    {
     "name": "stdout",
     "output_type": "stream",
     "text": [
      "Model: \"sequential\"\n",
      "_________________________________________________________________\n",
      " Layer (type)                Output Shape              Param #   \n",
      "=================================================================\n",
      " dense (Dense)               (None, 44)                968       \n",
      "                                                                 \n",
      " dense_1 (Dense)             (None, 4)                 180       \n",
      "                                                                 \n",
      "=================================================================\n",
      "Total params: 1,148\n",
      "Trainable params: 1,148\n",
      "Non-trainable params: 0\n",
      "_________________________________________________________________\n"
     ]
    }
   ],
   "source": [
    "model.summary()"
   ]
  },
  {
   "cell_type": "code",
   "execution_count": 24,
   "id": "b8721a40",
   "metadata": {},
   "outputs": [
    {
     "name": "stdout",
     "output_type": "stream",
     "text": [
      "Epoch 1/100\n",
      "10/10 [==============================] - 2s 70ms/step - loss: 1.2638 - accuracy: 0.4400 - val_loss: 1.1094 - val_accuracy: 0.5991\n",
      "Epoch 2/100\n",
      "10/10 [==============================] - 0s 13ms/step - loss: 1.0280 - accuracy: 0.6757 - val_loss: 0.9739 - val_accuracy: 0.6853\n",
      "Epoch 3/100\n",
      "10/10 [==============================] - 0s 13ms/step - loss: 0.9016 - accuracy: 0.7092 - val_loss: 0.8869 - val_accuracy: 0.7026\n",
      "Epoch 4/100\n",
      "10/10 [==============================] - 0s 13ms/step - loss: 0.8161 - accuracy: 0.7059 - val_loss: 0.8243 - val_accuracy: 0.7026\n",
      "Epoch 5/100\n",
      "10/10 [==============================] - 0s 14ms/step - loss: 0.7512 - accuracy: 0.7124 - val_loss: 0.7778 - val_accuracy: 0.6940\n",
      "Epoch 6/100\n",
      "10/10 [==============================] - 0s 13ms/step - loss: 0.7026 - accuracy: 0.7070 - val_loss: 0.7396 - val_accuracy: 0.7026\n",
      "Epoch 7/100\n",
      "10/10 [==============================] - 0s 15ms/step - loss: 0.6613 - accuracy: 0.7157 - val_loss: 0.7066 - val_accuracy: 0.7069\n",
      "Epoch 8/100\n",
      "10/10 [==============================] - 0s 14ms/step - loss: 0.6260 - accuracy: 0.7200 - val_loss: 0.6759 - val_accuracy: 0.7198\n",
      "Epoch 9/100\n",
      "10/10 [==============================] - 0s 13ms/step - loss: 0.5936 - accuracy: 0.7416 - val_loss: 0.6456 - val_accuracy: 0.7328\n",
      "Epoch 10/100\n",
      "10/10 [==============================] - 0s 13ms/step - loss: 0.5641 - accuracy: 0.7643 - val_loss: 0.6192 - val_accuracy: 0.7328\n",
      "Epoch 11/100\n",
      "10/10 [==============================] - 0s 13ms/step - loss: 0.5366 - accuracy: 0.7730 - val_loss: 0.5928 - val_accuracy: 0.7543\n",
      "Epoch 12/100\n",
      "10/10 [==============================] - 0s 14ms/step - loss: 0.5110 - accuracy: 0.8043 - val_loss: 0.5703 - val_accuracy: 0.7457\n",
      "Epoch 13/100\n",
      "10/10 [==============================] - 0s 15ms/step - loss: 0.4881 - accuracy: 0.8108 - val_loss: 0.5473 - val_accuracy: 0.7716\n",
      "Epoch 14/100\n",
      "10/10 [==============================] - 0s 12ms/step - loss: 0.4666 - accuracy: 0.8303 - val_loss: 0.5271 - val_accuracy: 0.7672\n",
      "Epoch 15/100\n",
      "10/10 [==============================] - 0s 14ms/step - loss: 0.4464 - accuracy: 0.8270 - val_loss: 0.5043 - val_accuracy: 0.7888\n",
      "Epoch 16/100\n",
      "10/10 [==============================] - 0s 13ms/step - loss: 0.4276 - accuracy: 0.8497 - val_loss: 0.4866 - val_accuracy: 0.7845\n",
      "Epoch 17/100\n",
      "10/10 [==============================] - 0s 12ms/step - loss: 0.4099 - accuracy: 0.8530 - val_loss: 0.4691 - val_accuracy: 0.7974\n",
      "Epoch 18/100\n",
      "10/10 [==============================] - 0s 12ms/step - loss: 0.3941 - accuracy: 0.8573 - val_loss: 0.4545 - val_accuracy: 0.8147\n",
      "Epoch 19/100\n",
      "10/10 [==============================] - 0s 14ms/step - loss: 0.3790 - accuracy: 0.8649 - val_loss: 0.4388 - val_accuracy: 0.8147\n",
      "Epoch 20/100\n",
      "10/10 [==============================] - 0s 18ms/step - loss: 0.3653 - accuracy: 0.8724 - val_loss: 0.4258 - val_accuracy: 0.8190\n",
      "Epoch 21/100\n",
      "10/10 [==============================] - 0s 17ms/step - loss: 0.3525 - accuracy: 0.8746 - val_loss: 0.4122 - val_accuracy: 0.8362\n",
      "Epoch 22/100\n",
      "10/10 [==============================] - 0s 15ms/step - loss: 0.3401 - accuracy: 0.8865 - val_loss: 0.4019 - val_accuracy: 0.8448\n",
      "Epoch 23/100\n",
      "10/10 [==============================] - 0s 13ms/step - loss: 0.3287 - accuracy: 0.8822 - val_loss: 0.3912 - val_accuracy: 0.8448\n",
      "Epoch 24/100\n",
      "10/10 [==============================] - 0s 11ms/step - loss: 0.3182 - accuracy: 0.8930 - val_loss: 0.3769 - val_accuracy: 0.8405\n",
      "Epoch 25/100\n",
      "10/10 [==============================] - 0s 12ms/step - loss: 0.3081 - accuracy: 0.8930 - val_loss: 0.3689 - val_accuracy: 0.8491\n",
      "Epoch 26/100\n",
      "10/10 [==============================] - 0s 12ms/step - loss: 0.2995 - accuracy: 0.8941 - val_loss: 0.3601 - val_accuracy: 0.8491\n",
      "Epoch 27/100\n",
      "10/10 [==============================] - 0s 12ms/step - loss: 0.2909 - accuracy: 0.8973 - val_loss: 0.3509 - val_accuracy: 0.8491\n",
      "Epoch 28/100\n",
      "10/10 [==============================] - 0s 11ms/step - loss: 0.2823 - accuracy: 0.8984 - val_loss: 0.3410 - val_accuracy: 0.8491\n",
      "Epoch 29/100\n",
      "10/10 [==============================] - 0s 13ms/step - loss: 0.2745 - accuracy: 0.9070 - val_loss: 0.3358 - val_accuracy: 0.8491\n",
      "Epoch 30/100\n",
      "10/10 [==============================] - 0s 17ms/step - loss: 0.2671 - accuracy: 0.9081 - val_loss: 0.3271 - val_accuracy: 0.8534\n",
      "Epoch 31/100\n",
      "10/10 [==============================] - 0s 16ms/step - loss: 0.2600 - accuracy: 0.9092 - val_loss: 0.3215 - val_accuracy: 0.8534\n",
      "Epoch 32/100\n",
      "10/10 [==============================] - 0s 21ms/step - loss: 0.2533 - accuracy: 0.9092 - val_loss: 0.3147 - val_accuracy: 0.8621\n",
      "Epoch 33/100\n",
      "10/10 [==============================] - 0s 13ms/step - loss: 0.2466 - accuracy: 0.9146 - val_loss: 0.3095 - val_accuracy: 0.8578\n",
      "Epoch 34/100\n",
      "10/10 [==============================] - 0s 12ms/step - loss: 0.2407 - accuracy: 0.9146 - val_loss: 0.3014 - val_accuracy: 0.8707\n",
      "Epoch 35/100\n",
      "10/10 [==============================] - 0s 12ms/step - loss: 0.2353 - accuracy: 0.9157 - val_loss: 0.2957 - val_accuracy: 0.8707\n",
      "Epoch 36/100\n",
      "10/10 [==============================] - 0s 16ms/step - loss: 0.2293 - accuracy: 0.9232 - val_loss: 0.2925 - val_accuracy: 0.8664\n",
      "Epoch 37/100\n",
      "10/10 [==============================] - 0s 11ms/step - loss: 0.2243 - accuracy: 0.9222 - val_loss: 0.2830 - val_accuracy: 0.8793\n",
      "Epoch 38/100\n",
      "10/10 [==============================] - 0s 10ms/step - loss: 0.2190 - accuracy: 0.9200 - val_loss: 0.2767 - val_accuracy: 0.8836\n",
      "Epoch 39/100\n",
      "10/10 [==============================] - 0s 11ms/step - loss: 0.2140 - accuracy: 0.9265 - val_loss: 0.2753 - val_accuracy: 0.8836\n",
      "Epoch 40/100\n",
      "10/10 [==============================] - 0s 10ms/step - loss: 0.2090 - accuracy: 0.9243 - val_loss: 0.2683 - val_accuracy: 0.8836\n",
      "Epoch 41/100\n",
      "10/10 [==============================] - 0s 10ms/step - loss: 0.2047 - accuracy: 0.9308 - val_loss: 0.2640 - val_accuracy: 0.8922\n",
      "Epoch 42/100\n",
      "10/10 [==============================] - 0s 10ms/step - loss: 0.2010 - accuracy: 0.9276 - val_loss: 0.2587 - val_accuracy: 0.8966\n",
      "Epoch 43/100\n",
      "10/10 [==============================] - 0s 11ms/step - loss: 0.1965 - accuracy: 0.9351 - val_loss: 0.2507 - val_accuracy: 0.9052\n",
      "Epoch 44/100\n",
      "10/10 [==============================] - 0s 15ms/step - loss: 0.1927 - accuracy: 0.9384 - val_loss: 0.2493 - val_accuracy: 0.9009\n",
      "Epoch 45/100\n",
      "10/10 [==============================] - 0s 13ms/step - loss: 0.1885 - accuracy: 0.9438 - val_loss: 0.2462 - val_accuracy: 0.8922\n",
      "Epoch 46/100\n",
      "10/10 [==============================] - 0s 10ms/step - loss: 0.1854 - accuracy: 0.9384 - val_loss: 0.2387 - val_accuracy: 0.9052\n",
      "Epoch 47/100\n",
      "10/10 [==============================] - 0s 15ms/step - loss: 0.1817 - accuracy: 0.9427 - val_loss: 0.2356 - val_accuracy: 0.9052\n",
      "Epoch 48/100\n",
      "10/10 [==============================] - 0s 19ms/step - loss: 0.1778 - accuracy: 0.9449 - val_loss: 0.2304 - val_accuracy: 0.9052\n",
      "Epoch 49/100\n",
      "10/10 [==============================] - 0s 19ms/step - loss: 0.1740 - accuracy: 0.9427 - val_loss: 0.2262 - val_accuracy: 0.9052\n",
      "Epoch 50/100\n",
      "10/10 [==============================] - 0s 16ms/step - loss: 0.1706 - accuracy: 0.9449 - val_loss: 0.2214 - val_accuracy: 0.9052\n",
      "Epoch 51/100\n",
      "10/10 [==============================] - 0s 17ms/step - loss: 0.1677 - accuracy: 0.9503 - val_loss: 0.2177 - val_accuracy: 0.9181\n",
      "Epoch 52/100\n",
      "10/10 [==============================] - 0s 16ms/step - loss: 0.1641 - accuracy: 0.9492 - val_loss: 0.2130 - val_accuracy: 0.9224\n",
      "Epoch 53/100\n",
      "10/10 [==============================] - 0s 16ms/step - loss: 0.1617 - accuracy: 0.9524 - val_loss: 0.2089 - val_accuracy: 0.9224\n",
      "Epoch 54/100\n",
      "10/10 [==============================] - 0s 12ms/step - loss: 0.1587 - accuracy: 0.9535 - val_loss: 0.2082 - val_accuracy: 0.9224\n",
      "Epoch 55/100\n",
      "10/10 [==============================] - 0s 12ms/step - loss: 0.1556 - accuracy: 0.9557 - val_loss: 0.2038 - val_accuracy: 0.9181\n",
      "Epoch 56/100\n",
      "10/10 [==============================] - 0s 16ms/step - loss: 0.1526 - accuracy: 0.9557 - val_loss: 0.2001 - val_accuracy: 0.9267\n",
      "Epoch 57/100\n",
      "10/10 [==============================] - 0s 15ms/step - loss: 0.1501 - accuracy: 0.9546 - val_loss: 0.1989 - val_accuracy: 0.9224\n",
      "Epoch 58/100\n"
     ]
    },
    {
     "name": "stdout",
     "output_type": "stream",
     "text": [
      "10/10 [==============================] - 0s 11ms/step - loss: 0.1476 - accuracy: 0.9546 - val_loss: 0.1944 - val_accuracy: 0.9353\n",
      "Epoch 59/100\n",
      "10/10 [==============================] - 0s 11ms/step - loss: 0.1465 - accuracy: 0.9611 - val_loss: 0.1910 - val_accuracy: 0.9267\n",
      "Epoch 60/100\n",
      "10/10 [==============================] - 0s 11ms/step - loss: 0.1424 - accuracy: 0.9622 - val_loss: 0.1892 - val_accuracy: 0.9310\n",
      "Epoch 61/100\n",
      "10/10 [==============================] - 0s 11ms/step - loss: 0.1398 - accuracy: 0.9632 - val_loss: 0.1866 - val_accuracy: 0.9353\n",
      "Epoch 62/100\n",
      "10/10 [==============================] - 0s 11ms/step - loss: 0.1392 - accuracy: 0.9632 - val_loss: 0.1829 - val_accuracy: 0.9397\n",
      "Epoch 63/100\n",
      "10/10 [==============================] - 0s 11ms/step - loss: 0.1358 - accuracy: 0.9632 - val_loss: 0.1824 - val_accuracy: 0.9353\n",
      "Epoch 64/100\n",
      "10/10 [==============================] - 0s 11ms/step - loss: 0.1334 - accuracy: 0.9600 - val_loss: 0.1802 - val_accuracy: 0.9483\n",
      "Epoch 65/100\n",
      "10/10 [==============================] - 0s 11ms/step - loss: 0.1321 - accuracy: 0.9676 - val_loss: 0.1784 - val_accuracy: 0.9397\n",
      "Epoch 66/100\n",
      "10/10 [==============================] - 0s 11ms/step - loss: 0.1299 - accuracy: 0.9643 - val_loss: 0.1748 - val_accuracy: 0.9397\n",
      "Epoch 67/100\n",
      "10/10 [==============================] - 0s 11ms/step - loss: 0.1272 - accuracy: 0.9654 - val_loss: 0.1731 - val_accuracy: 0.9397\n",
      "Epoch 68/100\n",
      "10/10 [==============================] - 0s 11ms/step - loss: 0.1258 - accuracy: 0.9676 - val_loss: 0.1711 - val_accuracy: 0.9397\n",
      "Epoch 69/100\n",
      "10/10 [==============================] - 0s 11ms/step - loss: 0.1234 - accuracy: 0.9697 - val_loss: 0.1680 - val_accuracy: 0.9397\n",
      "Epoch 70/100\n",
      "10/10 [==============================] - 0s 11ms/step - loss: 0.1212 - accuracy: 0.9719 - val_loss: 0.1635 - val_accuracy: 0.9440\n",
      "Epoch 71/100\n",
      "10/10 [==============================] - 0s 11ms/step - loss: 0.1190 - accuracy: 0.9741 - val_loss: 0.1634 - val_accuracy: 0.9397\n",
      "Epoch 72/100\n",
      "10/10 [==============================] - 0s 11ms/step - loss: 0.1176 - accuracy: 0.9762 - val_loss: 0.1621 - val_accuracy: 0.9397\n",
      "Epoch 73/100\n",
      "10/10 [==============================] - 0s 11ms/step - loss: 0.1156 - accuracy: 0.9708 - val_loss: 0.1602 - val_accuracy: 0.9440\n",
      "Epoch 74/100\n",
      "10/10 [==============================] - 0s 11ms/step - loss: 0.1141 - accuracy: 0.9730 - val_loss: 0.1579 - val_accuracy: 0.9483\n",
      "Epoch 75/100\n",
      "10/10 [==============================] - 0s 11ms/step - loss: 0.1119 - accuracy: 0.9751 - val_loss: 0.1571 - val_accuracy: 0.9397\n",
      "Epoch 76/100\n",
      "10/10 [==============================] - 0s 11ms/step - loss: 0.1104 - accuracy: 0.9751 - val_loss: 0.1559 - val_accuracy: 0.9526\n",
      "Epoch 77/100\n",
      "10/10 [==============================] - 0s 12ms/step - loss: 0.1091 - accuracy: 0.9751 - val_loss: 0.1513 - val_accuracy: 0.9569\n",
      "Epoch 78/100\n",
      "10/10 [==============================] - 0s 10ms/step - loss: 0.1072 - accuracy: 0.9773 - val_loss: 0.1494 - val_accuracy: 0.9569\n",
      "Epoch 79/100\n",
      "10/10 [==============================] - 0s 11ms/step - loss: 0.1058 - accuracy: 0.9795 - val_loss: 0.1482 - val_accuracy: 0.9569\n",
      "Epoch 80/100\n",
      "10/10 [==============================] - 0s 12ms/step - loss: 0.1044 - accuracy: 0.9773 - val_loss: 0.1461 - val_accuracy: 0.9655\n",
      "Epoch 81/100\n",
      "10/10 [==============================] - 0s 15ms/step - loss: 0.1024 - accuracy: 0.9795 - val_loss: 0.1423 - val_accuracy: 0.9655\n",
      "Epoch 82/100\n",
      "10/10 [==============================] - 0s 14ms/step - loss: 0.1015 - accuracy: 0.9773 - val_loss: 0.1415 - val_accuracy: 0.9612\n",
      "Epoch 83/100\n",
      "10/10 [==============================] - 0s 15ms/step - loss: 0.0995 - accuracy: 0.9805 - val_loss: 0.1412 - val_accuracy: 0.9526\n",
      "Epoch 84/100\n",
      "10/10 [==============================] - 0s 14ms/step - loss: 0.0984 - accuracy: 0.9795 - val_loss: 0.1374 - val_accuracy: 0.9655\n",
      "Epoch 85/100\n",
      "10/10 [==============================] - 0s 11ms/step - loss: 0.0965 - accuracy: 0.9816 - val_loss: 0.1352 - val_accuracy: 0.9741\n",
      "Epoch 86/100\n",
      "10/10 [==============================] - 0s 11ms/step - loss: 0.0954 - accuracy: 0.9795 - val_loss: 0.1330 - val_accuracy: 0.9784\n",
      "Epoch 87/100\n",
      "10/10 [==============================] - 0s 12ms/step - loss: 0.0942 - accuracy: 0.9816 - val_loss: 0.1331 - val_accuracy: 0.9741\n",
      "Epoch 88/100\n",
      "10/10 [==============================] - 0s 15ms/step - loss: 0.0930 - accuracy: 0.9827 - val_loss: 0.1316 - val_accuracy: 0.9698\n",
      "Epoch 89/100\n",
      "10/10 [==============================] - 0s 11ms/step - loss: 0.0917 - accuracy: 0.9816 - val_loss: 0.1299 - val_accuracy: 0.9784\n",
      "Epoch 90/100\n",
      "10/10 [==============================] - 0s 14ms/step - loss: 0.0901 - accuracy: 0.9816 - val_loss: 0.1283 - val_accuracy: 0.9784\n",
      "Epoch 91/100\n",
      "10/10 [==============================] - 0s 11ms/step - loss: 0.0892 - accuracy: 0.9827 - val_loss: 0.1273 - val_accuracy: 0.9784\n",
      "Epoch 92/100\n",
      "10/10 [==============================] - 0s 11ms/step - loss: 0.0875 - accuracy: 0.9838 - val_loss: 0.1255 - val_accuracy: 0.9741\n",
      "Epoch 93/100\n",
      "10/10 [==============================] - 0s 12ms/step - loss: 0.0861 - accuracy: 0.9849 - val_loss: 0.1238 - val_accuracy: 0.9784\n",
      "Epoch 94/100\n",
      "10/10 [==============================] - 0s 12ms/step - loss: 0.0853 - accuracy: 0.9838 - val_loss: 0.1226 - val_accuracy: 0.9784\n",
      "Epoch 95/100\n",
      "10/10 [==============================] - 0s 11ms/step - loss: 0.0839 - accuracy: 0.9838 - val_loss: 0.1218 - val_accuracy: 0.9741\n",
      "Epoch 96/100\n",
      "10/10 [==============================] - 0s 12ms/step - loss: 0.0837 - accuracy: 0.9849 - val_loss: 0.1207 - val_accuracy: 0.9784\n",
      "Epoch 97/100\n",
      "10/10 [==============================] - 0s 14ms/step - loss: 0.0817 - accuracy: 0.9838 - val_loss: 0.1191 - val_accuracy: 0.9784\n",
      "Epoch 98/100\n",
      "10/10 [==============================] - 0s 13ms/step - loss: 0.0807 - accuracy: 0.9838 - val_loss: 0.1178 - val_accuracy: 0.9784\n",
      "Epoch 99/100\n",
      "10/10 [==============================] - 0s 18ms/step - loss: 0.0793 - accuracy: 0.9859 - val_loss: 0.1170 - val_accuracy: 0.9741\n",
      "Epoch 100/100\n",
      "10/10 [==============================] - 0s 16ms/step - loss: 0.0782 - accuracy: 0.9849 - val_loss: 0.1162 - val_accuracy: 0.9784\n"
     ]
    }
   ],
   "source": [
    "history = model.fit(X_train, y_train, epochs = 100, batch_size=100, validation_split=0.2)\n"
   ]
  },
  {
   "cell_type": "code",
   "execution_count": 25,
   "id": "e12cdfa8",
   "metadata": {},
   "outputs": [],
   "source": [
    "history_dict = history.history\n",
    "acc = history_dict['accuracy']\n",
    "val_acc = history_dict['val_accuracy']\n",
    "loss = history_dict['loss']\n",
    "val_loss = history_dict['val_loss']"
   ]
  },
  {
   "cell_type": "code",
   "execution_count": 26,
   "id": "433a8855",
   "metadata": {},
   "outputs": [],
   "source": [
    "import matplotlib.pyplot as plt"
   ]
  },
  {
   "cell_type": "code",
   "execution_count": 27,
   "id": "139508f1",
   "metadata": {
    "scrolled": true
   },
   "outputs": [
    {
     "data": {
      "image/png": "[encoded data removed]",
      "text/plain": [
       "<Figure size 640x480 with 1 Axes>"
      ]
     },
     "metadata": {},
     "output_type": "display_data"
    }
   ],
   "source": [
    "epochs = range(1, len(acc) + 1)\n",
    "plt.plot(epochs, acc, 'r', label='Training accuracy')\n",
    "# b is for \"solid blue line\"\n",
    "plt.plot(epochs, val_acc, 'b', label='Validation accuracy')\n",
    "plt.title('Training and validation accuracy')\n",
    "plt.xlabel('Epochs')\n",
    "plt.ylabel('Accuracy')\n",
    "plt.legend()\n",
    "\n",
    "plt.show()"
   ]
  },
  {
   "cell_type": "code",
   "execution_count": 28,
   "id": "574e5b26",
   "metadata": {},
   "outputs": [
    {
     "data": {
      "image/png": "[encoded data removed]",
      "text/plain": [
       "<Figure size 640x480 with 1 Axes>"
      ]
     },
     "metadata": {},
     "output_type": "display_data"
    }
   ],
   "source": [
    "epochs = range(1, len(acc) + 1)\n",
    "plt.plot(epochs, loss, 'r', label='Training loss')\n",
    "# b is for \"solid blue line\"\n",
    "plt.plot(epochs, val_loss, 'b', label='Validation loss')\n",
    "plt.title('Training and validation loss')\n",
    "plt.xlabel('Epochs')\n",
    "plt.ylabel('Loss')\n",
    "plt.legend()\n",
    "\n",
    "plt.show()"
   ]
  },
  {
   "cell_type": "code",
   "execution_count": 29,
   "id": "148070b3",
   "metadata": {},
   "outputs": [
    {
     "name": "stdout",
     "output_type": "stream",
     "text": [
      "18/18 [==============================] - 0s 3ms/step\n"
     ]
    }
   ],
   "source": [
    "y_pred = model.predict(X_test)"
   ]
  },
  {
   "cell_type": "code",
   "execution_count": 30,
   "id": "7b5f7ac0",
   "metadata": {},
   "outputs": [
    {
     "data": {
      "text/plain": [
       "2"
      ]
     },
     "execution_count": 30,
     "metadata": {},
     "output_type": "execute_result"
    }
   ],
   "source": [
    "np.argmax(y_pred[1])"
   ]
  },
  {
   "cell_type": "code",
   "execution_count": 31,
   "id": "5a63623e",
   "metadata": {},
   "outputs": [
    {
     "name": "stdout",
     "output_type": "stream",
     "text": [
      "18/18 [==============================] - 0s 4ms/step - loss: 0.1118 - accuracy: 0.9526\n"
     ]
    }
   ],
   "source": [
    "loss, acc = model.evaluate(X_test, y_test)"
   ]
  },
  {
   "cell_type": "code",
   "execution_count": 32,
   "id": "2cc6c427",
   "metadata": {},
   "outputs": [
    {
     "data": {
      "text/plain": [
       "(0.11184793710708618, 0.9526315927505493)"
      ]
     },
     "execution_count": 32,
     "metadata": {},
     "output_type": "execute_result"
    }
   ],
   "source": [
    "loss, acc"
   ]
  },
  {
   "cell_type": "code",
   "execution_count": 33,
   "id": "b3e27b6f",
   "metadata": {},
   "outputs": [],
   "source": [
    "from sklearn.metrics import confusion_matrix, accuracy_score\n",
    "from sklearn.metrics import classification_report\n",
    "import numpy as np"
   ]
  },
  {
   "cell_type": "code",
   "execution_count": 34,
   "id": "0e6b08fe",
   "metadata": {},
   "outputs": [],
   "source": [
    "y_test= np.array(y_test)\n",
    "y_pred = np.array(y_pred)"
   ]
  },
  {
   "cell_type": "code",
   "execution_count": 35,
   "id": "3fec23cc",
   "metadata": {},
   "outputs": [
    {
     "data": {
      "text/plain": [
       "array([[115,   5,   7,   0],\n",
       "       [  1,  11,   0,   6],\n",
       "       [  5,   0, 394,   0],\n",
       "       [  1,   2,   0,  23]])"
      ]
     },
     "execution_count": 35,
     "metadata": {},
     "output_type": "execute_result"
    }
   ],
   "source": [
    "# matrix = confusion_matrix(y_test.np.argmax(axis=1), y_pred.np.argmax(axis=1))\n",
    "\n",
    "matrix = confusion_matrix(y_test.argmax(axis=1), y_pred.argmax(axis=1))\n",
    "matrix"
   ]
  },
  {
   "cell_type": "code",
   "execution_count": 36,
   "id": "bc92d7eb",
   "metadata": {},
   "outputs": [
    {
     "name": "stdout",
     "output_type": "stream",
     "text": [
      "              precision    recall  f1-score   support\n",
      "\n",
      "           0       0.94      0.91      0.92       127\n",
      "           1       0.61      0.61      0.61        18\n",
      "           2       0.98      0.99      0.98       399\n",
      "           3       0.79      0.88      0.84        26\n",
      "\n",
      "    accuracy                           0.95       570\n",
      "   macro avg       0.83      0.85      0.84       570\n",
      "weighted avg       0.95      0.95      0.95       570\n",
      "\n"
     ]
    }
   ],
   "source": [
    "classification = classification_report(y_test.argmax(axis=1), y_pred.argmax(axis=1))\n",
    "print(classification)"
   ]
  },
  {
   "cell_type": "code",
   "execution_count": 37,
   "id": "05684d9b",
   "metadata": {},
   "outputs": [
    {
     "data": {
      "text/plain": [
       "0.9526315789473684"
      ]
     },
     "execution_count": 37,
     "metadata": {},
     "output_type": "execute_result"
    }
   ],
   "source": [
    "acc = accuracy_score(y_test.argmax(axis=1), y_pred.argmax(axis=1))\n",
    "acc                    "
   ]
  },
  {
   "cell_type": "markdown",
   "id": "a3ad9b79",
   "metadata": {},
   "source": [
    "Now lets fetch some imaginary data to our model and see how it responds. </br>\n",
    "__Now Imagine we are implementing our model in real world scenario__"
   ]
  },
  {
   "cell_type": "code",
   "execution_count": 38,
   "id": "20487501",
   "metadata": {},
   "outputs": [
    {
     "data": {
      "text/html": [
       "<div>\n",
       "<style scoped>\n",
       "    .dataframe tbody tr th:only-of-type {\n",
       "        vertical-align: middle;\n",
       "    }\n",
       "\n",
       "    .dataframe tbody tr th {\n",
       "        vertical-align: top;\n",
       "    }\n",
       "\n",
       "    .dataframe thead th {\n",
       "        text-align: right;\n",
       "    }\n",
       "</style>\n",
       "<table border=\"1\" class=\"dataframe\">\n",
       "  <thead>\n",
       "    <tr style=\"text-align: right;\">\n",
       "      <th></th>\n",
       "      <th>buying</th>\n",
       "      <th>maint</th>\n",
       "      <th>doors</th>\n",
       "      <th>persons</th>\n",
       "      <th>lug_boot</th>\n",
       "      <th>safety</th>\n",
       "      <th>class</th>\n",
       "    </tr>\n",
       "  </thead>\n",
       "  <tbody>\n",
       "    <tr>\n",
       "      <th>1500</th>\n",
       "      <td>low</td>\n",
       "      <td>high</td>\n",
       "      <td>5more</td>\n",
       "      <td>4</td>\n",
       "      <td>big</td>\n",
       "      <td>med</td>\n",
       "      <td>acc</td>\n",
       "    </tr>\n",
       "    <tr>\n",
       "      <th>1501</th>\n",
       "      <td>low</td>\n",
       "      <td>high</td>\n",
       "      <td>5more</td>\n",
       "      <td>4</td>\n",
       "      <td>big</td>\n",
       "      <td>high</td>\n",
       "      <td>vgood</td>\n",
       "    </tr>\n",
       "    <tr>\n",
       "      <th>1502</th>\n",
       "      <td>low</td>\n",
       "      <td>high</td>\n",
       "      <td>5more</td>\n",
       "      <td>more</td>\n",
       "      <td>small</td>\n",
       "      <td>low</td>\n",
       "      <td>unacc</td>\n",
       "    </tr>\n",
       "    <tr>\n",
       "      <th>1503</th>\n",
       "      <td>low</td>\n",
       "      <td>high</td>\n",
       "      <td>5more</td>\n",
       "      <td>more</td>\n",
       "      <td>small</td>\n",
       "      <td>med</td>\n",
       "      <td>acc</td>\n",
       "    </tr>\n",
       "    <tr>\n",
       "      <th>1504</th>\n",
       "      <td>low</td>\n",
       "      <td>high</td>\n",
       "      <td>5more</td>\n",
       "      <td>more</td>\n",
       "      <td>small</td>\n",
       "      <td>high</td>\n",
       "      <td>acc</td>\n",
       "    </tr>\n",
       "  </tbody>\n",
       "</table>\n",
       "</div>"
      ],
      "text/plain": [
       "     buying maint  doors persons lug_boot safety  class\n",
       "1500    low  high  5more       4      big    med    acc\n",
       "1501    low  high  5more       4      big   high  vgood\n",
       "1502    low  high  5more    more    small    low  unacc\n",
       "1503    low  high  5more    more    small    med    acc\n",
       "1504    low  high  5more    more    small   high    acc"
      ]
     },
     "execution_count": 38,
     "metadata": {},
     "output_type": "execute_result"
    }
   ],
   "source": [
    "df[1500:1505]"
   ]
  },
  {
   "cell_type": "code",
   "execution_count": 39,
   "id": "d4aead2e",
   "metadata": {},
   "outputs": [],
   "source": [
    "\n",
    "colums = X_train.columns"
   ]
  },
  {
   "cell_type": "code",
   "execution_count": 40,
   "id": "9625db80",
   "metadata": {},
   "outputs": [
    {
     "data": {
      "text/plain": [
       "(21,)"
      ]
     },
     "execution_count": 40,
     "metadata": {},
     "output_type": "execute_result"
    }
   ],
   "source": [
    "colums\n",
    "colums.shape"
   ]
  },
  {
   "cell_type": "code",
   "execution_count": 41,
   "id": "928ca9db",
   "metadata": {},
   "outputs": [
    {
     "name": "stdout",
     "output_type": "stream",
     "text": [
      "21\n"
     ]
    },
    {
     "data": {
      "text/plain": [
       "array([[1, 1, 0, 0, 1, 1, 1, 1, 1, 0, 1, 1, 1, 1, 0, 0, 1, 0, 1, 1, 1]])"
      ]
     },
     "execution_count": 41,
     "metadata": {},
     "output_type": "execute_result"
    }
   ],
   "source": [
    "import random\n",
    "data = []\n",
    "for i in range(21):\n",
    "    j = random.randint(0, 1)\n",
    "    data.append(j)\n",
    "print(len(data))\n",
    "data = np.array(data)\n",
    "data = data.reshape(1,-1)\n",
    "data.shape\n",
    "data"
   ]
  },
  {
   "cell_type": "code",
   "execution_count": 42,
   "id": "ffc01826",
   "metadata": {},
   "outputs": [],
   "source": [
    "# data = [0, 1, 2, 3, 4, 5, 6, 7, 8, 9, 10, 11, 12, 13, 14, 15, 16, 17, 18, 19, 20]\n",
    "test_df = pd.DataFrame(data, columns = X.columns)"
   ]
  },
  {
   "cell_type": "code",
   "execution_count": 43,
   "id": "fcfa78ac",
   "metadata": {},
   "outputs": [
    {
     "data": {
      "text/html": [
       "<div>\n",
       "<style scoped>\n",
       "    .dataframe tbody tr th:only-of-type {\n",
       "        vertical-align: middle;\n",
       "    }\n",
       "\n",
       "    .dataframe tbody tr th {\n",
       "        vertical-align: top;\n",
       "    }\n",
       "\n",
       "    .dataframe thead th {\n",
       "        text-align: right;\n",
       "    }\n",
       "</style>\n",
       "<table border=\"1\" class=\"dataframe\">\n",
       "  <thead>\n",
       "    <tr style=\"text-align: right;\">\n",
       "      <th></th>\n",
       "      <th>buying_high</th>\n",
       "      <th>buying_low</th>\n",
       "      <th>buying_med</th>\n",
       "      <th>buying_vhigh</th>\n",
       "      <th>maint_high</th>\n",
       "      <th>maint_low</th>\n",
       "      <th>maint_med</th>\n",
       "      <th>maint_vhigh</th>\n",
       "      <th>doors_2</th>\n",
       "      <th>doors_3</th>\n",
       "      <th>...</th>\n",
       "      <th>doors_5more</th>\n",
       "      <th>persons_2</th>\n",
       "      <th>persons_4</th>\n",
       "      <th>persons_more</th>\n",
       "      <th>lug_boot_big</th>\n",
       "      <th>lug_boot_med</th>\n",
       "      <th>lug_boot_small</th>\n",
       "      <th>safety_high</th>\n",
       "      <th>safety_low</th>\n",
       "      <th>safety_med</th>\n",
       "    </tr>\n",
       "  </thead>\n",
       "  <tbody>\n",
       "    <tr>\n",
       "      <th>0</th>\n",
       "      <td>0</td>\n",
       "      <td>0</td>\n",
       "      <td>0</td>\n",
       "      <td>1</td>\n",
       "      <td>0</td>\n",
       "      <td>0</td>\n",
       "      <td>0</td>\n",
       "      <td>1</td>\n",
       "      <td>1</td>\n",
       "      <td>0</td>\n",
       "      <td>...</td>\n",
       "      <td>0</td>\n",
       "      <td>1</td>\n",
       "      <td>0</td>\n",
       "      <td>0</td>\n",
       "      <td>0</td>\n",
       "      <td>0</td>\n",
       "      <td>1</td>\n",
       "      <td>0</td>\n",
       "      <td>0</td>\n",
       "      <td>1</td>\n",
       "    </tr>\n",
       "  </tbody>\n",
       "</table>\n",
       "<p>1 rows × 21 columns</p>\n",
       "</div>"
      ],
      "text/plain": [
       "   buying_high  buying_low  buying_med  buying_vhigh  maint_high  maint_low  \\\n",
       "0            0           0           0             1           0          0   \n",
       "\n",
       "   maint_med  maint_vhigh  doors_2  doors_3  ...  doors_5more  persons_2  \\\n",
       "0          0            1        1        0  ...            0          1   \n",
       "\n",
       "   persons_4  persons_more  lug_boot_big  lug_boot_med  lug_boot_small  \\\n",
       "0          0             0             0             0               1   \n",
       "\n",
       "   safety_high  safety_low  safety_med  \n",
       "0            0           0           1  \n",
       "\n",
       "[1 rows x 21 columns]"
      ]
     },
     "execution_count": 43,
     "metadata": {},
     "output_type": "execute_result"
    }
   ],
   "source": [
    "X.iloc[0:1,0:21]"
   ]
  },
  {
   "cell_type": "code",
   "execution_count": 44,
   "id": "8c262532",
   "metadata": {},
   "outputs": [
    {
     "data": {
      "text/html": [
       "<div>\n",
       "<style scoped>\n",
       "    .dataframe tbody tr th:only-of-type {\n",
       "        vertical-align: middle;\n",
       "    }\n",
       "\n",
       "    .dataframe tbody tr th {\n",
       "        vertical-align: top;\n",
       "    }\n",
       "\n",
       "    .dataframe thead th {\n",
       "        text-align: right;\n",
       "    }\n",
       "</style>\n",
       "<table border=\"1\" class=\"dataframe\">\n",
       "  <thead>\n",
       "    <tr style=\"text-align: right;\">\n",
       "      <th></th>\n",
       "      <th>buying_high</th>\n",
       "      <th>buying_low</th>\n",
       "      <th>buying_med</th>\n",
       "      <th>buying_vhigh</th>\n",
       "      <th>maint_high</th>\n",
       "      <th>maint_low</th>\n",
       "      <th>maint_med</th>\n",
       "      <th>maint_vhigh</th>\n",
       "      <th>doors_2</th>\n",
       "      <th>doors_3</th>\n",
       "      <th>...</th>\n",
       "      <th>doors_5more</th>\n",
       "      <th>persons_2</th>\n",
       "      <th>persons_4</th>\n",
       "      <th>persons_more</th>\n",
       "      <th>lug_boot_big</th>\n",
       "      <th>lug_boot_med</th>\n",
       "      <th>lug_boot_small</th>\n",
       "      <th>safety_high</th>\n",
       "      <th>safety_low</th>\n",
       "      <th>safety_med</th>\n",
       "    </tr>\n",
       "  </thead>\n",
       "  <tbody>\n",
       "    <tr>\n",
       "      <th>0</th>\n",
       "      <td>1</td>\n",
       "      <td>1</td>\n",
       "      <td>0</td>\n",
       "      <td>0</td>\n",
       "      <td>1</td>\n",
       "      <td>1</td>\n",
       "      <td>1</td>\n",
       "      <td>1</td>\n",
       "      <td>1</td>\n",
       "      <td>0</td>\n",
       "      <td>...</td>\n",
       "      <td>1</td>\n",
       "      <td>1</td>\n",
       "      <td>1</td>\n",
       "      <td>0</td>\n",
       "      <td>0</td>\n",
       "      <td>1</td>\n",
       "      <td>0</td>\n",
       "      <td>1</td>\n",
       "      <td>1</td>\n",
       "      <td>1</td>\n",
       "    </tr>\n",
       "  </tbody>\n",
       "</table>\n",
       "<p>1 rows × 21 columns</p>\n",
       "</div>"
      ],
      "text/plain": [
       "   buying_high  buying_low  buying_med  buying_vhigh  maint_high  maint_low  \\\n",
       "0            1           1           0             0           1          1   \n",
       "\n",
       "   maint_med  maint_vhigh  doors_2  doors_3  ...  doors_5more  persons_2  \\\n",
       "0          1            1        1        0  ...            1          1   \n",
       "\n",
       "   persons_4  persons_more  lug_boot_big  lug_boot_med  lug_boot_small  \\\n",
       "0          1             0             0             1               0   \n",
       "\n",
       "   safety_high  safety_low  safety_med  \n",
       "0            1           1           1  \n",
       "\n",
       "[1 rows x 21 columns]"
      ]
     },
     "execution_count": 44,
     "metadata": {},
     "output_type": "execute_result"
    }
   ],
   "source": [
    "test_df"
   ]
  },
  {
   "cell_type": "code",
   "execution_count": 45,
   "id": "36623649",
   "metadata": {},
   "outputs": [],
   "source": [
    "test_y = ['class_acc','class_good','class_unacc','class_vgood']"
   ]
  },
  {
   "cell_type": "code",
   "execution_count": 46,
   "id": "87d894ba",
   "metadata": {},
   "outputs": [
    {
     "name": "stdout",
     "output_type": "stream",
     "text": [
      "1/1 [==============================] - 0s 132ms/step\n"
     ]
    },
    {
     "data": {
      "text/plain": [
       "array([[1.9228679e-12, 1.3784732e-22, 1.0000000e+00, 8.1729017e-27]],\n",
       "      dtype=float32)"
      ]
     },
     "execution_count": 46,
     "metadata": {},
     "output_type": "execute_result"
    }
   ],
   "source": [
    "test_res = model.predict(test_df)\n",
    "test_res"
   ]
  },
  {
   "cell_type": "code",
   "execution_count": 47,
   "id": "74fdeb34",
   "metadata": {},
   "outputs": [
    {
     "data": {
      "text/plain": [
       "2"
      ]
     },
     "execution_count": 47,
     "metadata": {},
     "output_type": "execute_result"
    }
   ],
   "source": [
    "np.argmax(test_res)"
   ]
  },
  {
   "cell_type": "code",
   "execution_count": 48,
   "id": "cc2ff25f",
   "metadata": {},
   "outputs": [
    {
     "data": {
      "text/plain": [
       "'class_unacc'"
      ]
     },
     "execution_count": 48,
     "metadata": {},
     "output_type": "execute_result"
    }
   ],
   "source": [
    "test_y[np.argmax(test_res)] "
   ]
  },
  {
   "cell_type": "markdown",
   "id": "6cfcdbc0",
   "metadata": {},
   "source": [
    "</br>"
   ]
  },
  {
   "cell_type": "markdown",
   "id": "e217f5da",
   "metadata": {},
   "source": [
    "</br>"
   ]
  },
  {
   "cell_type": "markdown",
   "id": "2363f75b",
   "metadata": {},
   "source": [
    "__Multiclass classification using XGBoost__"
   ]
  },
  {
   "cell_type": "code",
   "execution_count": 49,
   "id": "f382365e",
   "metadata": {},
   "outputs": [],
   "source": [
    "from xgboost import XGBClassifier"
   ]
  },
  {
   "cell_type": "markdown",
   "id": "505207bd",
   "metadata": {},
   "source": [
    "XGBoost is configured to automatically model the multiclass classification problem using the 'multi:softprob' objective.\n",
    "XGBoost is a statistical algorithm, which will output the single value as a result. "
   ]
  },
  {
   "cell_type": "code",
   "execution_count": 50,
   "id": "58bdc6d1",
   "metadata": {},
   "outputs": [],
   "source": [
    "xg_model = XGBClassifier(learning_rate = 0.3, n_estimators = 100,  max_depth= 6, \n",
    "                                        min_child_weight = 1, gamma = 0, subsample =1, \n",
    "                              colsample_bytree = 1, reg_alpha = 0, reg_lambda=1, objective ='multi:softprob',\n",
    "                              tree_method='hist',  n_jobs = -1, use_label_encoder=False)\n"
   ]
  },
  {
   "cell_type": "markdown",
   "id": "50ccc6ef",
   "metadata": {},
   "source": [
    "XGBoost cannot model this problem as-is as it requires that the output variables be numeric.\n",
    "We can use different technique to transform output or target variables into numeric one from string. But we cannot use one-hot-encoding technique to convert target into multi-dimension series of value. It is not valid in XGBoost or any other statistical algorithms.</br>\n",
    "We can easily convert the string values to integer values using the LabelEncoder. The three class values (Iris-setosa, Iris-versicolor, Iris-virginica) are mapped to the integer values (0, 1, 2)."
   ]
  },
  {
   "cell_type": "code",
   "execution_count": 51,
   "id": "d660696c",
   "metadata": {},
   "outputs": [
    {
     "data": {
      "text/html": [
       "<div>\n",
       "<style scoped>\n",
       "    .dataframe tbody tr th:only-of-type {\n",
       "        vertical-align: middle;\n",
       "    }\n",
       "\n",
       "    .dataframe tbody tr th {\n",
       "        vertical-align: top;\n",
       "    }\n",
       "\n",
       "    .dataframe thead th {\n",
       "        text-align: right;\n",
       "    }\n",
       "</style>\n",
       "<table border=\"1\" class=\"dataframe\">\n",
       "  <thead>\n",
       "    <tr style=\"text-align: right;\">\n",
       "      <th></th>\n",
       "      <th>buying</th>\n",
       "      <th>maint</th>\n",
       "      <th>doors</th>\n",
       "      <th>persons</th>\n",
       "      <th>lug_boot</th>\n",
       "      <th>safety</th>\n",
       "    </tr>\n",
       "  </thead>\n",
       "  <tbody>\n",
       "    <tr>\n",
       "      <th>0</th>\n",
       "      <td>vhigh</td>\n",
       "      <td>vhigh</td>\n",
       "      <td>2</td>\n",
       "      <td>2</td>\n",
       "      <td>small</td>\n",
       "      <td>med</td>\n",
       "    </tr>\n",
       "    <tr>\n",
       "      <th>1</th>\n",
       "      <td>vhigh</td>\n",
       "      <td>vhigh</td>\n",
       "      <td>2</td>\n",
       "      <td>2</td>\n",
       "      <td>small</td>\n",
       "      <td>high</td>\n",
       "    </tr>\n",
       "    <tr>\n",
       "      <th>2</th>\n",
       "      <td>vhigh</td>\n",
       "      <td>vhigh</td>\n",
       "      <td>2</td>\n",
       "      <td>2</td>\n",
       "      <td>med</td>\n",
       "      <td>low</td>\n",
       "    </tr>\n",
       "    <tr>\n",
       "      <th>3</th>\n",
       "      <td>vhigh</td>\n",
       "      <td>vhigh</td>\n",
       "      <td>2</td>\n",
       "      <td>2</td>\n",
       "      <td>med</td>\n",
       "      <td>med</td>\n",
       "    </tr>\n",
       "    <tr>\n",
       "      <th>4</th>\n",
       "      <td>vhigh</td>\n",
       "      <td>vhigh</td>\n",
       "      <td>2</td>\n",
       "      <td>2</td>\n",
       "      <td>med</td>\n",
       "      <td>high</td>\n",
       "    </tr>\n",
       "    <tr>\n",
       "      <th>...</th>\n",
       "      <td>...</td>\n",
       "      <td>...</td>\n",
       "      <td>...</td>\n",
       "      <td>...</td>\n",
       "      <td>...</td>\n",
       "      <td>...</td>\n",
       "    </tr>\n",
       "    <tr>\n",
       "      <th>1722</th>\n",
       "      <td>low</td>\n",
       "      <td>low</td>\n",
       "      <td>5more</td>\n",
       "      <td>more</td>\n",
       "      <td>med</td>\n",
       "      <td>med</td>\n",
       "    </tr>\n",
       "    <tr>\n",
       "      <th>1723</th>\n",
       "      <td>low</td>\n",
       "      <td>low</td>\n",
       "      <td>5more</td>\n",
       "      <td>more</td>\n",
       "      <td>med</td>\n",
       "      <td>high</td>\n",
       "    </tr>\n",
       "    <tr>\n",
       "      <th>1724</th>\n",
       "      <td>low</td>\n",
       "      <td>low</td>\n",
       "      <td>5more</td>\n",
       "      <td>more</td>\n",
       "      <td>big</td>\n",
       "      <td>low</td>\n",
       "    </tr>\n",
       "    <tr>\n",
       "      <th>1725</th>\n",
       "      <td>low</td>\n",
       "      <td>low</td>\n",
       "      <td>5more</td>\n",
       "      <td>more</td>\n",
       "      <td>big</td>\n",
       "      <td>med</td>\n",
       "    </tr>\n",
       "    <tr>\n",
       "      <th>1726</th>\n",
       "      <td>low</td>\n",
       "      <td>low</td>\n",
       "      <td>5more</td>\n",
       "      <td>more</td>\n",
       "      <td>big</td>\n",
       "      <td>high</td>\n",
       "    </tr>\n",
       "  </tbody>\n",
       "</table>\n",
       "<p>1727 rows × 6 columns</p>\n",
       "</div>"
      ],
      "text/plain": [
       "     buying  maint  doors persons lug_boot safety\n",
       "0     vhigh  vhigh      2       2    small    med\n",
       "1     vhigh  vhigh      2       2    small   high\n",
       "2     vhigh  vhigh      2       2      med    low\n",
       "3     vhigh  vhigh      2       2      med    med\n",
       "4     vhigh  vhigh      2       2      med   high\n",
       "...     ...    ...    ...     ...      ...    ...\n",
       "1722    low    low  5more    more      med    med\n",
       "1723    low    low  5more    more      med   high\n",
       "1724    low    low  5more    more      big    low\n",
       "1725    low    low  5more    more      big    med\n",
       "1726    low    low  5more    more      big   high\n",
       "\n",
       "[1727 rows x 6 columns]"
      ]
     },
     "execution_count": 51,
     "metadata": {},
     "output_type": "execute_result"
    }
   ],
   "source": [
    "X = df.iloc[:,0:6]\n",
    "X"
   ]
  },
  {
   "cell_type": "code",
   "execution_count": 52,
   "id": "fd395c32",
   "metadata": {},
   "outputs": [],
   "source": [
    "X_colms = X.columns\n",
    "for i in X_colms:\n",
    "    X = pd.concat([X, pd.get_dummies(X[i], prefix=i)], axis=1 )\n",
    "    X.drop([i], axis=1, inplace=True)"
   ]
  },
  {
   "cell_type": "code",
   "execution_count": 53,
   "id": "aed72205",
   "metadata": {},
   "outputs": [
    {
     "data": {
      "text/html": [
       "<div>\n",
       "<style scoped>\n",
       "    .dataframe tbody tr th:only-of-type {\n",
       "        vertical-align: middle;\n",
       "    }\n",
       "\n",
       "    .dataframe tbody tr th {\n",
       "        vertical-align: top;\n",
       "    }\n",
       "\n",
       "    .dataframe thead th {\n",
       "        text-align: right;\n",
       "    }\n",
       "</style>\n",
       "<table border=\"1\" class=\"dataframe\">\n",
       "  <thead>\n",
       "    <tr style=\"text-align: right;\">\n",
       "      <th></th>\n",
       "      <th>buying_high</th>\n",
       "      <th>buying_low</th>\n",
       "      <th>buying_med</th>\n",
       "      <th>buying_vhigh</th>\n",
       "      <th>maint_high</th>\n",
       "      <th>maint_low</th>\n",
       "      <th>maint_med</th>\n",
       "      <th>maint_vhigh</th>\n",
       "      <th>doors_2</th>\n",
       "      <th>doors_3</th>\n",
       "      <th>...</th>\n",
       "      <th>doors_5more</th>\n",
       "      <th>persons_2</th>\n",
       "      <th>persons_4</th>\n",
       "      <th>persons_more</th>\n",
       "      <th>lug_boot_big</th>\n",
       "      <th>lug_boot_med</th>\n",
       "      <th>lug_boot_small</th>\n",
       "      <th>safety_high</th>\n",
       "      <th>safety_low</th>\n",
       "      <th>safety_med</th>\n",
       "    </tr>\n",
       "  </thead>\n",
       "  <tbody>\n",
       "    <tr>\n",
       "      <th>0</th>\n",
       "      <td>0</td>\n",
       "      <td>0</td>\n",
       "      <td>0</td>\n",
       "      <td>1</td>\n",
       "      <td>0</td>\n",
       "      <td>0</td>\n",
       "      <td>0</td>\n",
       "      <td>1</td>\n",
       "      <td>1</td>\n",
       "      <td>0</td>\n",
       "      <td>...</td>\n",
       "      <td>0</td>\n",
       "      <td>1</td>\n",
       "      <td>0</td>\n",
       "      <td>0</td>\n",
       "      <td>0</td>\n",
       "      <td>0</td>\n",
       "      <td>1</td>\n",
       "      <td>0</td>\n",
       "      <td>0</td>\n",
       "      <td>1</td>\n",
       "    </tr>\n",
       "    <tr>\n",
       "      <th>1</th>\n",
       "      <td>0</td>\n",
       "      <td>0</td>\n",
       "      <td>0</td>\n",
       "      <td>1</td>\n",
       "      <td>0</td>\n",
       "      <td>0</td>\n",
       "      <td>0</td>\n",
       "      <td>1</td>\n",
       "      <td>1</td>\n",
       "      <td>0</td>\n",
       "      <td>...</td>\n",
       "      <td>0</td>\n",
       "      <td>1</td>\n",
       "      <td>0</td>\n",
       "      <td>0</td>\n",
       "      <td>0</td>\n",
       "      <td>0</td>\n",
       "      <td>1</td>\n",
       "      <td>1</td>\n",
       "      <td>0</td>\n",
       "      <td>0</td>\n",
       "    </tr>\n",
       "    <tr>\n",
       "      <th>2</th>\n",
       "      <td>0</td>\n",
       "      <td>0</td>\n",
       "      <td>0</td>\n",
       "      <td>1</td>\n",
       "      <td>0</td>\n",
       "      <td>0</td>\n",
       "      <td>0</td>\n",
       "      <td>1</td>\n",
       "      <td>1</td>\n",
       "      <td>0</td>\n",
       "      <td>...</td>\n",
       "      <td>0</td>\n",
       "      <td>1</td>\n",
       "      <td>0</td>\n",
       "      <td>0</td>\n",
       "      <td>0</td>\n",
       "      <td>1</td>\n",
       "      <td>0</td>\n",
       "      <td>0</td>\n",
       "      <td>1</td>\n",
       "      <td>0</td>\n",
       "    </tr>\n",
       "    <tr>\n",
       "      <th>3</th>\n",
       "      <td>0</td>\n",
       "      <td>0</td>\n",
       "      <td>0</td>\n",
       "      <td>1</td>\n",
       "      <td>0</td>\n",
       "      <td>0</td>\n",
       "      <td>0</td>\n",
       "      <td>1</td>\n",
       "      <td>1</td>\n",
       "      <td>0</td>\n",
       "      <td>...</td>\n",
       "      <td>0</td>\n",
       "      <td>1</td>\n",
       "      <td>0</td>\n",
       "      <td>0</td>\n",
       "      <td>0</td>\n",
       "      <td>1</td>\n",
       "      <td>0</td>\n",
       "      <td>0</td>\n",
       "      <td>0</td>\n",
       "      <td>1</td>\n",
       "    </tr>\n",
       "    <tr>\n",
       "      <th>4</th>\n",
       "      <td>0</td>\n",
       "      <td>0</td>\n",
       "      <td>0</td>\n",
       "      <td>1</td>\n",
       "      <td>0</td>\n",
       "      <td>0</td>\n",
       "      <td>0</td>\n",
       "      <td>1</td>\n",
       "      <td>1</td>\n",
       "      <td>0</td>\n",
       "      <td>...</td>\n",
       "      <td>0</td>\n",
       "      <td>1</td>\n",
       "      <td>0</td>\n",
       "      <td>0</td>\n",
       "      <td>0</td>\n",
       "      <td>1</td>\n",
       "      <td>0</td>\n",
       "      <td>1</td>\n",
       "      <td>0</td>\n",
       "      <td>0</td>\n",
       "    </tr>\n",
       "    <tr>\n",
       "      <th>...</th>\n",
       "      <td>...</td>\n",
       "      <td>...</td>\n",
       "      <td>...</td>\n",
       "      <td>...</td>\n",
       "      <td>...</td>\n",
       "      <td>...</td>\n",
       "      <td>...</td>\n",
       "      <td>...</td>\n",
       "      <td>...</td>\n",
       "      <td>...</td>\n",
       "      <td>...</td>\n",
       "      <td>...</td>\n",
       "      <td>...</td>\n",
       "      <td>...</td>\n",
       "      <td>...</td>\n",
       "      <td>...</td>\n",
       "      <td>...</td>\n",
       "      <td>...</td>\n",
       "      <td>...</td>\n",
       "      <td>...</td>\n",
       "      <td>...</td>\n",
       "    </tr>\n",
       "    <tr>\n",
       "      <th>1722</th>\n",
       "      <td>0</td>\n",
       "      <td>1</td>\n",
       "      <td>0</td>\n",
       "      <td>0</td>\n",
       "      <td>0</td>\n",
       "      <td>1</td>\n",
       "      <td>0</td>\n",
       "      <td>0</td>\n",
       "      <td>0</td>\n",
       "      <td>0</td>\n",
       "      <td>...</td>\n",
       "      <td>1</td>\n",
       "      <td>0</td>\n",
       "      <td>0</td>\n",
       "      <td>1</td>\n",
       "      <td>0</td>\n",
       "      <td>1</td>\n",
       "      <td>0</td>\n",
       "      <td>0</td>\n",
       "      <td>0</td>\n",
       "      <td>1</td>\n",
       "    </tr>\n",
       "    <tr>\n",
       "      <th>1723</th>\n",
       "      <td>0</td>\n",
       "      <td>1</td>\n",
       "      <td>0</td>\n",
       "      <td>0</td>\n",
       "      <td>0</td>\n",
       "      <td>1</td>\n",
       "      <td>0</td>\n",
       "      <td>0</td>\n",
       "      <td>0</td>\n",
       "      <td>0</td>\n",
       "      <td>...</td>\n",
       "      <td>1</td>\n",
       "      <td>0</td>\n",
       "      <td>0</td>\n",
       "      <td>1</td>\n",
       "      <td>0</td>\n",
       "      <td>1</td>\n",
       "      <td>0</td>\n",
       "      <td>1</td>\n",
       "      <td>0</td>\n",
       "      <td>0</td>\n",
       "    </tr>\n",
       "    <tr>\n",
       "      <th>1724</th>\n",
       "      <td>0</td>\n",
       "      <td>1</td>\n",
       "      <td>0</td>\n",
       "      <td>0</td>\n",
       "      <td>0</td>\n",
       "      <td>1</td>\n",
       "      <td>0</td>\n",
       "      <td>0</td>\n",
       "      <td>0</td>\n",
       "      <td>0</td>\n",
       "      <td>...</td>\n",
       "      <td>1</td>\n",
       "      <td>0</td>\n",
       "      <td>0</td>\n",
       "      <td>1</td>\n",
       "      <td>1</td>\n",
       "      <td>0</td>\n",
       "      <td>0</td>\n",
       "      <td>0</td>\n",
       "      <td>1</td>\n",
       "      <td>0</td>\n",
       "    </tr>\n",
       "    <tr>\n",
       "      <th>1725</th>\n",
       "      <td>0</td>\n",
       "      <td>1</td>\n",
       "      <td>0</td>\n",
       "      <td>0</td>\n",
       "      <td>0</td>\n",
       "      <td>1</td>\n",
       "      <td>0</td>\n",
       "      <td>0</td>\n",
       "      <td>0</td>\n",
       "      <td>0</td>\n",
       "      <td>...</td>\n",
       "      <td>1</td>\n",
       "      <td>0</td>\n",
       "      <td>0</td>\n",
       "      <td>1</td>\n",
       "      <td>1</td>\n",
       "      <td>0</td>\n",
       "      <td>0</td>\n",
       "      <td>0</td>\n",
       "      <td>0</td>\n",
       "      <td>1</td>\n",
       "    </tr>\n",
       "    <tr>\n",
       "      <th>1726</th>\n",
       "      <td>0</td>\n",
       "      <td>1</td>\n",
       "      <td>0</td>\n",
       "      <td>0</td>\n",
       "      <td>0</td>\n",
       "      <td>1</td>\n",
       "      <td>0</td>\n",
       "      <td>0</td>\n",
       "      <td>0</td>\n",
       "      <td>0</td>\n",
       "      <td>...</td>\n",
       "      <td>1</td>\n",
       "      <td>0</td>\n",
       "      <td>0</td>\n",
       "      <td>1</td>\n",
       "      <td>1</td>\n",
       "      <td>0</td>\n",
       "      <td>0</td>\n",
       "      <td>1</td>\n",
       "      <td>0</td>\n",
       "      <td>0</td>\n",
       "    </tr>\n",
       "  </tbody>\n",
       "</table>\n",
       "<p>1727 rows × 21 columns</p>\n",
       "</div>"
      ],
      "text/plain": [
       "      buying_high  buying_low  buying_med  buying_vhigh  maint_high  \\\n",
       "0               0           0           0             1           0   \n",
       "1               0           0           0             1           0   \n",
       "2               0           0           0             1           0   \n",
       "3               0           0           0             1           0   \n",
       "4               0           0           0             1           0   \n",
       "...           ...         ...         ...           ...         ...   \n",
       "1722            0           1           0             0           0   \n",
       "1723            0           1           0             0           0   \n",
       "1724            0           1           0             0           0   \n",
       "1725            0           1           0             0           0   \n",
       "1726            0           1           0             0           0   \n",
       "\n",
       "      maint_low  maint_med  maint_vhigh  doors_2  doors_3  ...  doors_5more  \\\n",
       "0             0          0            1        1        0  ...            0   \n",
       "1             0          0            1        1        0  ...            0   \n",
       "2             0          0            1        1        0  ...            0   \n",
       "3             0          0            1        1        0  ...            0   \n",
       "4             0          0            1        1        0  ...            0   \n",
       "...         ...        ...          ...      ...      ...  ...          ...   \n",
       "1722          1          0            0        0        0  ...            1   \n",
       "1723          1          0            0        0        0  ...            1   \n",
       "1724          1          0            0        0        0  ...            1   \n",
       "1725          1          0            0        0        0  ...            1   \n",
       "1726          1          0            0        0        0  ...            1   \n",
       "\n",
       "      persons_2  persons_4  persons_more  lug_boot_big  lug_boot_med  \\\n",
       "0             1          0             0             0             0   \n",
       "1             1          0             0             0             0   \n",
       "2             1          0             0             0             1   \n",
       "3             1          0             0             0             1   \n",
       "4             1          0             0             0             1   \n",
       "...         ...        ...           ...           ...           ...   \n",
       "1722          0          0             1             0             1   \n",
       "1723          0          0             1             0             1   \n",
       "1724          0          0             1             1             0   \n",
       "1725          0          0             1             1             0   \n",
       "1726          0          0             1             1             0   \n",
       "\n",
       "      lug_boot_small  safety_high  safety_low  safety_med  \n",
       "0                  1            0           0           1  \n",
       "1                  1            1           0           0  \n",
       "2                  0            0           1           0  \n",
       "3                  0            0           0           1  \n",
       "4                  0            1           0           0  \n",
       "...              ...          ...         ...         ...  \n",
       "1722               0            0           0           1  \n",
       "1723               0            1           0           0  \n",
       "1724               0            0           1           0  \n",
       "1725               0            0           0           1  \n",
       "1726               0            1           0           0  \n",
       "\n",
       "[1727 rows x 21 columns]"
      ]
     },
     "execution_count": 53,
     "metadata": {},
     "output_type": "execute_result"
    }
   ],
   "source": [
    "X"
   ]
  },
  {
   "cell_type": "code",
   "execution_count": 54,
   "id": "846f0361",
   "metadata": {},
   "outputs": [],
   "source": [
    "from sklearn.preprocessing import LabelEncoder"
   ]
  },
  {
   "cell_type": "code",
   "execution_count": 55,
   "id": "0ca11910",
   "metadata": {},
   "outputs": [
    {
     "data": {
      "text/plain": [
       "['unacc', 'acc', 'vgood', 'good']"
      ]
     },
     "execution_count": 55,
     "metadata": {},
     "output_type": "execute_result"
    }
   ],
   "source": [
    "y = df.iloc[:,6:]\n",
    "y = np.array(y)\n",
    "y = y.reshape(-1)\n",
    "unq = []\n",
    "for i in y:\n",
    "    if i not in unq:\n",
    "        unq.append(i)\n",
    "unq"
   ]
  },
  {
   "cell_type": "code",
   "execution_count": 56,
   "id": "bdf52950",
   "metadata": {},
   "outputs": [
    {
     "data": {
      "text/plain": [
       "array([2, 2, 2, ..., 2, 1, 3])"
      ]
     },
     "execution_count": 56,
     "metadata": {},
     "output_type": "execute_result"
    }
   ],
   "source": [
    "label_encoder = LabelEncoder()\n",
    "label_encoder = label_encoder.fit(y)\n",
    "label_encoded_y = label_encoder.transform(y)\n",
    "ly = label_encoded_y\n",
    "ly"
   ]
  },
  {
   "cell_type": "code",
   "execution_count": 57,
   "id": "33c8d41a",
   "metadata": {},
   "outputs": [],
   "source": [
    "from sklearn.model_selection import train_test_split\n",
    "X_train, X_test, y_train, y_test = train_test_split(X, ly, test_size = 0.33, random_state = 42)"
   ]
  },
  {
   "cell_type": "code",
   "execution_count": 58,
   "id": "d7bf9988",
   "metadata": {},
   "outputs": [
    {
     "data": {
      "text/html": [
       "<style>#sk-container-id-1 {color: black;background-color: white;}#sk-container-id-1 pre{padding: 0;}#sk-container-id-1 div.sk-toggleable {background-color: white;}#sk-container-id-1 label.sk-toggleable__label {cursor: pointer;display: block;width: 100%;margin-bottom: 0;padding: 0.3em;box-sizing: border-box;text-align: center;}#sk-container-id-1 label.sk-toggleable__label-arrow:before {content: \"▸\";float: left;margin-right: 0.25em;color: #696969;}#sk-container-id-1 label.sk-toggleable__label-arrow:hover:before {color: black;}#sk-container-id-1 div.sk-estimator:hover label.sk-toggleable__label-arrow:before {color: black;}#sk-container-id-1 div.sk-toggleable__content {max-height: 0;max-width: 0;overflow: hidden;text-align: left;background-color: #f0f8ff;}#sk-container-id-1 div.sk-toggleable__content pre {margin: 0.2em;color: black;border-radius: 0.25em;background-color: #f0f8ff;}#sk-container-id-1 input.sk-toggleable__control:checked~div.sk-toggleable__content {max-height: 200px;max-width: 100%;overflow: auto;}#sk-container-id-1 input.sk-toggleable__control:checked~label.sk-toggleable__label-arrow:before {content: \"▾\";}#sk-container-id-1 div.sk-estimator input.sk-toggleable__control:checked~label.sk-toggleable__label {background-color: #d4ebff;}#sk-container-id-1 div.sk-label input.sk-toggleable__control:checked~label.sk-toggleable__label {background-color: #d4ebff;}#sk-container-id-1 input.sk-hidden--visually {border: 0;clip: rect(1px 1px 1px 1px);clip: rect(1px, 1px, 1px, 1px);height: 1px;margin: -1px;overflow: hidden;padding: 0;position: absolute;width: 1px;}#sk-container-id-1 div.sk-estimator {font-family: monospace;background-color: #f0f8ff;border: 1px dotted black;border-radius: 0.25em;box-sizing: border-box;margin-bottom: 0.5em;}#sk-container-id-1 div.sk-estimator:hover {background-color: #d4ebff;}#sk-container-id-1 div.sk-parallel-item::after {content: \"\";width: 100%;border-bottom: 1px solid gray;flex-grow: 1;}#sk-container-id-1 div.sk-label:hover label.sk-toggleable__label {background-color: #d4ebff;}#sk-container-id-1 div.sk-serial::before {content: \"\";position: absolute;border-left: 1px solid gray;box-sizing: border-box;top: 0;bottom: 0;left: 50%;z-index: 0;}#sk-container-id-1 div.sk-serial {display: flex;flex-direction: column;align-items: center;background-color: white;padding-right: 0.2em;padding-left: 0.2em;position: relative;}#sk-container-id-1 div.sk-item {position: relative;z-index: 1;}#sk-container-id-1 div.sk-parallel {display: flex;align-items: stretch;justify-content: center;background-color: white;position: relative;}#sk-container-id-1 div.sk-item::before, #sk-container-id-1 div.sk-parallel-item::before {content: \"\";position: absolute;border-left: 1px solid gray;box-sizing: border-box;top: 0;bottom: 0;left: 50%;z-index: -1;}#sk-container-id-1 div.sk-parallel-item {display: flex;flex-direction: column;z-index: 1;position: relative;background-color: white;}#sk-container-id-1 div.sk-parallel-item:first-child::after {align-self: flex-end;width: 50%;}#sk-container-id-1 div.sk-parallel-item:last-child::after {align-self: flex-start;width: 50%;}#sk-container-id-1 div.sk-parallel-item:only-child::after {width: 0;}#sk-container-id-1 div.sk-dashed-wrapped {border: 1px dashed gray;margin: 0 0.4em 0.5em 0.4em;box-sizing: border-box;padding-bottom: 0.4em;background-color: white;}#sk-container-id-1 div.sk-label label {font-family: monospace;font-weight: bold;display: inline-block;line-height: 1.2em;}#sk-container-id-1 div.sk-label-container {text-align: center;}#sk-container-id-1 div.sk-container {/* jupyter's `normalize.less` sets `[hidden] { display: none; }` but bootstrap.min.css set `[hidden] { display: none !important; }` so we also need the `!important` here to be able to override the default hidden behavior on the sphinx rendered scikit-learn.org. See: https://github.com/scikit-learn/scikit-learn/issues/21755 */display: inline-block !important;position: relative;}#sk-container-id-1 div.sk-text-repr-fallback {display: none;}</style><div id=\"sk-container-id-1\" class=\"sk-top-container\"><div class=\"sk-text-repr-fallback\"><pre>XGBClassifier(base_score=0.5, booster=&#x27;gbtree&#x27;, callbacks=None,\n",
       "              colsample_bylevel=1, colsample_bynode=1, colsample_bytree=1,\n",
       "              early_stopping_rounds=None, enable_categorical=False,\n",
       "              eval_metric=None, gamma=0, gpu_id=-1, grow_policy=&#x27;depthwise&#x27;,\n",
       "              importance_type=None, interaction_constraints=&#x27;&#x27;,\n",
       "              learning_rate=0.3, max_bin=256, max_cat_to_onehot=4,\n",
       "              max_delta_step=0, max_depth=6, max_leaves=0, min_child_weight=1,\n",
       "              missing=nan, monotone_constraints=&#x27;()&#x27;, n_estimators=100,\n",
       "              n_jobs=-1, num_parallel_tree=1, objective=&#x27;multi:softprob&#x27;,\n",
       "              predictor=&#x27;auto&#x27;, random_state=0, reg_alpha=0, ...)</pre><b>In a Jupyter environment, please rerun this cell to show the HTML representation or trust the notebook. <br />On GitHub, the HTML representation is unable to render, please try loading this page with nbviewer.org.</b></div><div class=\"sk-container\" hidden><div class=\"sk-item\"><div class=\"sk-estimator sk-toggleable\"><input class=\"sk-toggleable__control sk-hidden--visually\" id=\"sk-estimator-id-1\" type=\"checkbox\" checked><label for=\"sk-estimator-id-1\" class=\"sk-toggleable__label sk-toggleable__label-arrow\">XGBClassifier</label><div class=\"sk-toggleable__content\"><pre>XGBClassifier(base_score=0.5, booster=&#x27;gbtree&#x27;, callbacks=None,\n",
       "              colsample_bylevel=1, colsample_bynode=1, colsample_bytree=1,\n",
       "              early_stopping_rounds=None, enable_categorical=False,\n",
       "              eval_metric=None, gamma=0, gpu_id=-1, grow_policy=&#x27;depthwise&#x27;,\n",
       "              importance_type=None, interaction_constraints=&#x27;&#x27;,\n",
       "              learning_rate=0.3, max_bin=256, max_cat_to_onehot=4,\n",
       "              max_delta_step=0, max_depth=6, max_leaves=0, min_child_weight=1,\n",
       "              missing=nan, monotone_constraints=&#x27;()&#x27;, n_estimators=100,\n",
       "              n_jobs=-1, num_parallel_tree=1, objective=&#x27;multi:softprob&#x27;,\n",
       "              predictor=&#x27;auto&#x27;, random_state=0, reg_alpha=0, ...)</pre></div></div></div></div></div>"
      ],
      "text/plain": [
       "XGBClassifier(base_score=0.5, booster='gbtree', callbacks=None,\n",
       "              colsample_bylevel=1, colsample_bynode=1, colsample_bytree=1,\n",
       "              early_stopping_rounds=None, enable_categorical=False,\n",
       "              eval_metric=None, gamma=0, gpu_id=-1, grow_policy='depthwise',\n",
       "              importance_type=None, interaction_constraints='',\n",
       "              learning_rate=0.3, max_bin=256, max_cat_to_onehot=4,\n",
       "              max_delta_step=0, max_depth=6, max_leaves=0, min_child_weight=1,\n",
       "              missing=nan, monotone_constraints='()', n_estimators=100,\n",
       "              n_jobs=-1, num_parallel_tree=1, objective='multi:softprob',\n",
       "              predictor='auto', random_state=0, reg_alpha=0, ...)"
      ]
     },
     "execution_count": 58,
     "metadata": {},
     "output_type": "execute_result"
    }
   ],
   "source": [
    "xg_model.fit(X_train, y_train)"
   ]
  },
  {
   "cell_type": "code",
   "execution_count": 59,
   "id": "1042c758",
   "metadata": {},
   "outputs": [],
   "source": [
    "y_pred = xg_model.predict(X_test)"
   ]
  },
  {
   "cell_type": "code",
   "execution_count": 60,
   "id": "9e2127e4",
   "metadata": {},
   "outputs": [
    {
     "name": "stdout",
     "output_type": "stream",
     "text": [
      "Accuracy: 97.54%\n"
     ]
    }
   ],
   "source": [
    "accuracy = accuracy_score(y_test, y_pred)\n",
    "print(\"Accuracy: %.2f%%\" % (accuracy * 100.0))"
   ]
  },
  {
   "cell_type": "code",
   "execution_count": 61,
   "id": "0201bd98",
   "metadata": {},
   "outputs": [
    {
     "data": {
      "text/plain": [
       "array([[122,   4,   0,   1],\n",
       "       [  2,  12,   3,   1],\n",
       "       [  0,   0, 399,   0],\n",
       "       [  1,   2,   0,  23]])"
      ]
     },
     "execution_count": 61,
     "metadata": {},
     "output_type": "execute_result"
    }
   ],
   "source": [
    "matrix = confusion_matrix(y_test, y_pred)\n",
    "matrix"
   ]
  },
  {
   "cell_type": "code",
   "execution_count": 62,
   "id": "e96a1a89",
   "metadata": {},
   "outputs": [
    {
     "name": "stdout",
     "output_type": "stream",
     "text": [
      "              precision    recall  f1-score   support\n",
      "\n",
      "           0       0.98      0.96      0.97       127\n",
      "           1       0.67      0.67      0.67        18\n",
      "           2       0.99      1.00      1.00       399\n",
      "           3       0.92      0.88      0.90        26\n",
      "\n",
      "    accuracy                           0.98       570\n",
      "   macro avg       0.89      0.88      0.88       570\n",
      "weighted avg       0.98      0.98      0.98       570\n",
      "\n"
     ]
    }
   ],
   "source": [
    "report = classification_report(y_test, y_pred)\n",
    "print(report)"
   ]
  },
  {
   "cell_type": "code",
   "execution_count": 63,
   "id": "b20ee834",
   "metadata": {},
   "outputs": [],
   "source": [
    "test_pred = xg_model.predict(test_df)"
   ]
  },
  {
   "cell_type": "code",
   "execution_count": 64,
   "id": "2154d20c",
   "metadata": {},
   "outputs": [
    {
     "data": {
      "text/plain": [
       "2"
      ]
     },
     "execution_count": 64,
     "metadata": {},
     "output_type": "execute_result"
    }
   ],
   "source": [
    "test_pred[0]"
   ]
  },
  {
   "cell_type": "code",
   "execution_count": 65,
   "id": "50eb67cf",
   "metadata": {},
   "outputs": [],
   "source": [
    "unq = ['unacc','acc','vgood','good']"
   ]
  },
  {
   "cell_type": "code",
   "execution_count": 66,
   "id": "9260aa32",
   "metadata": {},
   "outputs": [
    {
     "data": {
      "text/plain": [
       "[2, 0, 3, 1]"
      ]
     },
     "execution_count": 66,
     "metadata": {},
     "output_type": "execute_result"
    }
   ],
   "source": [
    "unql = []\n",
    "for i in ly:\n",
    "    if i not in unql:\n",
    "        unql.append(i)\n",
    "unql"
   ]
  },
  {
   "cell_type": "code",
   "execution_count": 67,
   "id": "93f2945a",
   "metadata": {},
   "outputs": [
    {
     "name": "stdout",
     "output_type": "stream",
     "text": [
      "unacc\n"
     ]
    }
   ],
   "source": [
    "if test_pred[0] == 0:\n",
    "    print('acc')\n",
    "elif test_pred[0] == 1:\n",
    "    print('good')\n",
    "elif test_pred[0] == 2:\n",
    "    print('unacc')\n",
    "else:\n",
    "    print('vgood')"
   ]
  },
  {
   "cell_type": "code",
   "execution_count": null,
   "id": "53f90178",
   "metadata": {},
   "outputs": [],
   "source": []
  },
  {
   "cell_type": "code",
   "execution_count": null,
   "id": "b0d0148c",
   "metadata": {},
   "outputs": [],
   "source": []
  }
 ],
 "metadata": {
  "kernelspec": {
   "display_name": "Python 3 (ipykernel)",
   "language": "python",
   "name": "python3"
  },
  "language_info": {
   "codemirror_mode": {
    "name": "ipython",
    "version": 3
   },
   "file_extension": ".py",
   "mimetype": "text/x-python",
   "name": "python",
   "nbconvert_exporter": "python",
   "pygments_lexer": "ipython3",
   "version": "3.10.6"
  }
 },
 "nbformat": 4,
 "nbformat_minor": 5
}
